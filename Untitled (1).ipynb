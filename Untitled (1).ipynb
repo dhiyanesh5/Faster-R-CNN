{
  "nbformat": 4,
  "nbformat_minor": 0,
  "metadata": {
    "colab": {
      "provenance": [],
      "gpuType": "T4"
    },
    "kernelspec": {
      "name": "python3",
      "display_name": "Python 3"
    },
    "language_info": {
      "name": "python"
    },
    "accelerator": "GPU"
  },
  "cells": [
    {
      "cell_type": "markdown",
      "source": [
        "**Mount Google drive to import dataset**"
      ],
      "metadata": {
        "id": "oNCsg5pGQ2Ly"
      }
    },
    {
      "cell_type": "code",
      "source": [
        "from google.colab import drive\n",
        "\n",
        "drive.mount('/content/drive')"
      ],
      "metadata": {
        "colab": {
          "base_uri": "https://localhost:8080/"
        },
        "id": "xgmJBlawR8tj",
        "outputId": "3a01d3b1-7e98-4ebb-f071-96cf96a66152"
      },
      "execution_count": 1,
      "outputs": [
        {
          "output_type": "stream",
          "name": "stdout",
          "text": [
            "Mounted at /content/drive\n"
          ]
        }
      ]
    },
    {
      "cell_type": "markdown",
      "source": [
        "# Baseline Approach (10 Epoch)"
      ],
      "metadata": {
        "id": "4GCDU5ECRCED"
      }
    },
    {
      "cell_type": "code",
      "execution_count": 2,
      "metadata": {
        "colab": {
          "base_uri": "https://localhost:8080/"
        },
        "id": "9fcwOptqR2wa",
        "outputId": "bd57cb36-1f71-4616-a3fa-78c4b36c915d"
      },
      "outputs": [
        {
          "output_type": "stream",
          "name": "stdout",
          "text": [
            "Requirement already satisfied: torch in /usr/local/lib/python3.11/dist-packages (2.5.1+cu121)\n",
            "Requirement already satisfied: torchvision in /usr/local/lib/python3.11/dist-packages (0.20.1+cu121)\n",
            "Requirement already satisfied: matplotlib in /usr/local/lib/python3.11/dist-packages (3.10.0)\n",
            "Requirement already satisfied: tqdm in /usr/local/lib/python3.11/dist-packages (4.67.1)\n",
            "Requirement already satisfied: filelock in /usr/local/lib/python3.11/dist-packages (from torch) (3.17.0)\n",
            "Requirement already satisfied: typing-extensions>=4.8.0 in /usr/local/lib/python3.11/dist-packages (from torch) (4.12.2)\n",
            "Requirement already satisfied: networkx in /usr/local/lib/python3.11/dist-packages (from torch) (3.4.2)\n",
            "Requirement already satisfied: jinja2 in /usr/local/lib/python3.11/dist-packages (from torch) (3.1.5)\n",
            "Requirement already satisfied: fsspec in /usr/local/lib/python3.11/dist-packages (from torch) (2024.10.0)\n",
            "Requirement already satisfied: nvidia-cuda-nvrtc-cu12==12.1.105 in /usr/local/lib/python3.11/dist-packages (from torch) (12.1.105)\n",
            "Requirement already satisfied: nvidia-cuda-runtime-cu12==12.1.105 in /usr/local/lib/python3.11/dist-packages (from torch) (12.1.105)\n",
            "Requirement already satisfied: nvidia-cuda-cupti-cu12==12.1.105 in /usr/local/lib/python3.11/dist-packages (from torch) (12.1.105)\n",
            "Requirement already satisfied: nvidia-cudnn-cu12==9.1.0.70 in /usr/local/lib/python3.11/dist-packages (from torch) (9.1.0.70)\n",
            "Requirement already satisfied: nvidia-cublas-cu12==12.1.3.1 in /usr/local/lib/python3.11/dist-packages (from torch) (12.1.3.1)\n",
            "Requirement already satisfied: nvidia-cufft-cu12==11.0.2.54 in /usr/local/lib/python3.11/dist-packages (from torch) (11.0.2.54)\n",
            "Requirement already satisfied: nvidia-curand-cu12==10.3.2.106 in /usr/local/lib/python3.11/dist-packages (from torch) (10.3.2.106)\n",
            "Requirement already satisfied: nvidia-cusolver-cu12==11.4.5.107 in /usr/local/lib/python3.11/dist-packages (from torch) (11.4.5.107)\n",
            "Requirement already satisfied: nvidia-cusparse-cu12==12.1.0.106 in /usr/local/lib/python3.11/dist-packages (from torch) (12.1.0.106)\n",
            "Requirement already satisfied: nvidia-nccl-cu12==2.21.5 in /usr/local/lib/python3.11/dist-packages (from torch) (2.21.5)\n",
            "Requirement already satisfied: nvidia-nvtx-cu12==12.1.105 in /usr/local/lib/python3.11/dist-packages (from torch) (12.1.105)\n",
            "Requirement already satisfied: triton==3.1.0 in /usr/local/lib/python3.11/dist-packages (from torch) (3.1.0)\n",
            "Requirement already satisfied: sympy==1.13.1 in /usr/local/lib/python3.11/dist-packages (from torch) (1.13.1)\n",
            "Requirement already satisfied: nvidia-nvjitlink-cu12 in /usr/local/lib/python3.11/dist-packages (from nvidia-cusolver-cu12==11.4.5.107->torch) (12.6.85)\n",
            "Requirement already satisfied: mpmath<1.4,>=1.1.0 in /usr/local/lib/python3.11/dist-packages (from sympy==1.13.1->torch) (1.3.0)\n",
            "Requirement already satisfied: numpy in /usr/local/lib/python3.11/dist-packages (from torchvision) (1.26.4)\n",
            "Requirement already satisfied: pillow!=8.3.*,>=5.3.0 in /usr/local/lib/python3.11/dist-packages (from torchvision) (11.1.0)\n",
            "Requirement already satisfied: contourpy>=1.0.1 in /usr/local/lib/python3.11/dist-packages (from matplotlib) (1.3.1)\n",
            "Requirement already satisfied: cycler>=0.10 in /usr/local/lib/python3.11/dist-packages (from matplotlib) (0.12.1)\n",
            "Requirement already satisfied: fonttools>=4.22.0 in /usr/local/lib/python3.11/dist-packages (from matplotlib) (4.55.4)\n",
            "Requirement already satisfied: kiwisolver>=1.3.1 in /usr/local/lib/python3.11/dist-packages (from matplotlib) (1.4.8)\n",
            "Requirement already satisfied: packaging>=20.0 in /usr/local/lib/python3.11/dist-packages (from matplotlib) (24.2)\n",
            "Requirement already satisfied: pyparsing>=2.3.1 in /usr/local/lib/python3.11/dist-packages (from matplotlib) (3.2.1)\n",
            "Requirement already satisfied: python-dateutil>=2.7 in /usr/local/lib/python3.11/dist-packages (from matplotlib) (2.8.2)\n",
            "Requirement already satisfied: six>=1.5 in /usr/local/lib/python3.11/dist-packages (from python-dateutil>=2.7->matplotlib) (1.17.0)\n",
            "Requirement already satisfied: MarkupSafe>=2.0 in /usr/local/lib/python3.11/dist-packages (from jinja2->torch) (3.0.2)\n",
            "Requirement already satisfied: fiftyone in /usr/local/lib/python3.11/dist-packages (1.3.0)\n",
            "Requirement already satisfied: aiofiles in /usr/local/lib/python3.11/dist-packages (from fiftyone) (24.1.0)\n",
            "Requirement already satisfied: argcomplete in /usr/local/lib/python3.11/dist-packages (from fiftyone) (3.5.3)\n",
            "Requirement already satisfied: beautifulsoup4 in /usr/local/lib/python3.11/dist-packages (from fiftyone) (4.12.3)\n",
            "Requirement already satisfied: boto3 in /usr/local/lib/python3.11/dist-packages (from fiftyone) (1.36.6)\n",
            "Requirement already satisfied: cachetools in /usr/local/lib/python3.11/dist-packages (from fiftyone) (5.5.1)\n",
            "Requirement already satisfied: dacite<1.8.0,>=1.6.0 in /usr/local/lib/python3.11/dist-packages (from fiftyone) (1.7.0)\n",
            "Requirement already satisfied: Deprecated in /usr/local/lib/python3.11/dist-packages (from fiftyone) (1.2.15)\n",
            "Requirement already satisfied: ftfy in /usr/local/lib/python3.11/dist-packages (from fiftyone) (6.3.1)\n",
            "Requirement already satisfied: humanize in /usr/local/lib/python3.11/dist-packages (from fiftyone) (4.11.0)\n",
            "Requirement already satisfied: hypercorn>=0.13.2 in /usr/local/lib/python3.11/dist-packages (from fiftyone) (0.17.3)\n",
            "Requirement already satisfied: Jinja2>=3 in /usr/local/lib/python3.11/dist-packages (from fiftyone) (3.1.5)\n",
            "Requirement already satisfied: kaleido!=0.2.1.post1 in /usr/local/lib/python3.11/dist-packages (from fiftyone) (0.2.1)\n",
            "Requirement already satisfied: matplotlib in /usr/local/lib/python3.11/dist-packages (from fiftyone) (3.10.0)\n",
            "Requirement already satisfied: mongoengine~=0.29.1 in /usr/local/lib/python3.11/dist-packages (from fiftyone) (0.29.1)\n",
            "Requirement already satisfied: motor~=3.6.0 in /usr/local/lib/python3.11/dist-packages (from fiftyone) (3.6.1)\n",
            "Requirement already satisfied: numpy in /usr/local/lib/python3.11/dist-packages (from fiftyone) (1.26.4)\n",
            "Requirement already satisfied: packaging in /usr/local/lib/python3.11/dist-packages (from fiftyone) (24.2)\n",
            "Requirement already satisfied: pandas in /usr/local/lib/python3.11/dist-packages (from fiftyone) (2.2.2)\n",
            "Requirement already satisfied: Pillow>=6.2 in /usr/local/lib/python3.11/dist-packages (from fiftyone) (11.1.0)\n",
            "Requirement already satisfied: plotly>=4.14 in /usr/local/lib/python3.11/dist-packages (from fiftyone) (5.24.1)\n",
            "Requirement already satisfied: pprintpp in /usr/local/lib/python3.11/dist-packages (from fiftyone) (0.4.0)\n",
            "Requirement already satisfied: psutil in /usr/local/lib/python3.11/dist-packages (from fiftyone) (5.9.5)\n",
            "Requirement already satisfied: pymongo~=4.9.2 in /usr/local/lib/python3.11/dist-packages (from fiftyone) (4.9.2)\n",
            "Requirement already satisfied: pytz in /usr/local/lib/python3.11/dist-packages (from fiftyone) (2024.2)\n",
            "Requirement already satisfied: PyYAML in /usr/local/lib/python3.11/dist-packages (from fiftyone) (6.0.2)\n",
            "Requirement already satisfied: regex in /usr/local/lib/python3.11/dist-packages (from fiftyone) (2024.11.6)\n",
            "Requirement already satisfied: retrying in /usr/local/lib/python3.11/dist-packages (from fiftyone) (1.3.4)\n",
            "Requirement already satisfied: rtree in /usr/local/lib/python3.11/dist-packages (from fiftyone) (1.3.0)\n",
            "Requirement already satisfied: scikit-learn in /usr/local/lib/python3.11/dist-packages (from fiftyone) (1.6.1)\n",
            "Requirement already satisfied: scikit-image in /usr/local/lib/python3.11/dist-packages (from fiftyone) (0.25.0)\n",
            "Requirement already satisfied: scipy in /usr/local/lib/python3.11/dist-packages (from fiftyone) (1.13.1)\n",
            "Requirement already satisfied: setuptools in /usr/local/lib/python3.11/dist-packages (from fiftyone) (75.1.0)\n",
            "Requirement already satisfied: sseclient-py<2,>=1.7.2 in /usr/local/lib/python3.11/dist-packages (from fiftyone) (1.8.0)\n",
            "Requirement already satisfied: sse-starlette<1,>=0.10.3 in /usr/local/lib/python3.11/dist-packages (from fiftyone) (0.10.3)\n",
            "Requirement already satisfied: starlette>=0.24.0 in /usr/local/lib/python3.11/dist-packages (from fiftyone) (0.45.3)\n",
            "Requirement already satisfied: strawberry-graphql in /usr/local/lib/python3.11/dist-packages (from fiftyone) (0.258.0)\n",
            "Requirement already satisfied: tabulate in /usr/local/lib/python3.11/dist-packages (from fiftyone) (0.9.0)\n",
            "Requirement already satisfied: xmltodict in /usr/local/lib/python3.11/dist-packages (from fiftyone) (0.14.2)\n",
            "Requirement already satisfied: universal-analytics-python3<2,>=1.0.1 in /usr/local/lib/python3.11/dist-packages (from fiftyone) (1.1.1)\n",
            "Requirement already satisfied: pydash in /usr/local/lib/python3.11/dist-packages (from fiftyone) (8.0.5)\n",
            "Requirement already satisfied: fiftyone-brain<0.20,>=0.19.0 in /usr/local/lib/python3.11/dist-packages (from fiftyone) (0.19.0)\n",
            "Requirement already satisfied: fiftyone-db<2.0,>=0.4 in /usr/local/lib/python3.11/dist-packages (from fiftyone) (1.1.7)\n",
            "Requirement already satisfied: voxel51-eta<0.15,>=0.14.0 in /usr/local/lib/python3.11/dist-packages (from fiftyone) (0.14.0)\n",
            "Requirement already satisfied: opencv-python-headless in /usr/local/lib/python3.11/dist-packages (from fiftyone) (4.11.0.86)\n",
            "Requirement already satisfied: h11 in /usr/local/lib/python3.11/dist-packages (from hypercorn>=0.13.2->fiftyone) (0.14.0)\n",
            "Requirement already satisfied: h2>=3.1.0 in /usr/local/lib/python3.11/dist-packages (from hypercorn>=0.13.2->fiftyone) (4.1.0)\n",
            "Requirement already satisfied: priority in /usr/local/lib/python3.11/dist-packages (from hypercorn>=0.13.2->fiftyone) (2.0.0)\n",
            "Requirement already satisfied: wsproto>=0.14.0 in /usr/local/lib/python3.11/dist-packages (from hypercorn>=0.13.2->fiftyone) (1.2.0)\n",
            "Requirement already satisfied: MarkupSafe>=2.0 in /usr/local/lib/python3.11/dist-packages (from Jinja2>=3->fiftyone) (3.0.2)\n",
            "Requirement already satisfied: tenacity>=6.2.0 in /usr/local/lib/python3.11/dist-packages (from plotly>=4.14->fiftyone) (9.0.0)\n",
            "Requirement already satisfied: dnspython<3.0.0,>=1.16.0 in /usr/local/lib/python3.11/dist-packages (from pymongo~=4.9.2->fiftyone) (2.7.0)\n",
            "Requirement already satisfied: anyio<5,>=3.6.2 in /usr/local/lib/python3.11/dist-packages (from starlette>=0.24.0->fiftyone) (3.7.1)\n",
            "Requirement already satisfied: httpx>=0.10.0 in /usr/local/lib/python3.11/dist-packages (from universal-analytics-python3<2,>=1.0.1->fiftyone) (0.28.1)\n",
            "Requirement already satisfied: dill in /usr/local/lib/python3.11/dist-packages (from voxel51-eta<0.15,>=0.14.0->fiftyone) (0.3.9)\n",
            "Requirement already satisfied: future in /usr/local/lib/python3.11/dist-packages (from voxel51-eta<0.15,>=0.14.0->fiftyone) (1.0.0)\n",
            "Requirement already satisfied: glob2 in /usr/local/lib/python3.11/dist-packages (from voxel51-eta<0.15,>=0.14.0->fiftyone) (0.7)\n",
            "Requirement already satisfied: jsonlines in /usr/local/lib/python3.11/dist-packages (from voxel51-eta<0.15,>=0.14.0->fiftyone) (4.0.0)\n",
            "Requirement already satisfied: py7zr in /usr/local/lib/python3.11/dist-packages (from voxel51-eta<0.15,>=0.14.0->fiftyone) (0.22.0)\n",
            "Requirement already satisfied: python-dateutil in /usr/local/lib/python3.11/dist-packages (from voxel51-eta<0.15,>=0.14.0->fiftyone) (2.8.2)\n",
            "Requirement already satisfied: rarfile in /usr/local/lib/python3.11/dist-packages (from voxel51-eta<0.15,>=0.14.0->fiftyone) (4.2)\n",
            "Requirement already satisfied: requests in /usr/local/lib/python3.11/dist-packages (from voxel51-eta<0.15,>=0.14.0->fiftyone) (2.32.3)\n",
            "Requirement already satisfied: six in /usr/local/lib/python3.11/dist-packages (from voxel51-eta<0.15,>=0.14.0->fiftyone) (1.17.0)\n",
            "Requirement already satisfied: sortedcontainers in /usr/local/lib/python3.11/dist-packages (from voxel51-eta<0.15,>=0.14.0->fiftyone) (2.4.0)\n",
            "Requirement already satisfied: tzlocal in /usr/local/lib/python3.11/dist-packages (from voxel51-eta<0.15,>=0.14.0->fiftyone) (5.2)\n",
            "Requirement already satisfied: urllib3 in /usr/local/lib/python3.11/dist-packages (from voxel51-eta<0.15,>=0.14.0->fiftyone) (2.3.0)\n",
            "Requirement already satisfied: soupsieve>1.2 in /usr/local/lib/python3.11/dist-packages (from beautifulsoup4->fiftyone) (2.6)\n",
            "Requirement already satisfied: botocore<1.37.0,>=1.36.6 in /usr/local/lib/python3.11/dist-packages (from boto3->fiftyone) (1.36.6)\n",
            "Requirement already satisfied: jmespath<2.0.0,>=0.7.1 in /usr/local/lib/python3.11/dist-packages (from boto3->fiftyone) (1.0.1)\n",
            "Requirement already satisfied: s3transfer<0.12.0,>=0.11.0 in /usr/local/lib/python3.11/dist-packages (from boto3->fiftyone) (0.11.2)\n",
            "Requirement already satisfied: wrapt<2,>=1.10 in /usr/local/lib/python3.11/dist-packages (from Deprecated->fiftyone) (1.17.2)\n",
            "Requirement already satisfied: wcwidth in /usr/local/lib/python3.11/dist-packages (from ftfy->fiftyone) (0.2.13)\n",
            "Requirement already satisfied: contourpy>=1.0.1 in /usr/local/lib/python3.11/dist-packages (from matplotlib->fiftyone) (1.3.1)\n",
            "Requirement already satisfied: cycler>=0.10 in /usr/local/lib/python3.11/dist-packages (from matplotlib->fiftyone) (0.12.1)\n",
            "Requirement already satisfied: fonttools>=4.22.0 in /usr/local/lib/python3.11/dist-packages (from matplotlib->fiftyone) (4.55.4)\n",
            "Requirement already satisfied: kiwisolver>=1.3.1 in /usr/local/lib/python3.11/dist-packages (from matplotlib->fiftyone) (1.4.8)\n",
            "Requirement already satisfied: pyparsing>=2.3.1 in /usr/local/lib/python3.11/dist-packages (from matplotlib->fiftyone) (3.2.1)\n",
            "Requirement already satisfied: tzdata>=2022.7 in /usr/local/lib/python3.11/dist-packages (from pandas->fiftyone) (2025.1)\n",
            "Requirement already satisfied: typing-extensions!=4.6.0,>3.10 in /usr/local/lib/python3.11/dist-packages (from pydash->fiftyone) (4.12.2)\n",
            "Requirement already satisfied: networkx>=3.0 in /usr/local/lib/python3.11/dist-packages (from scikit-image->fiftyone) (3.4.2)\n",
            "Requirement already satisfied: imageio!=2.35.0,>=2.33 in /usr/local/lib/python3.11/dist-packages (from scikit-image->fiftyone) (2.36.1)\n",
            "Requirement already satisfied: tifffile>=2022.8.12 in /usr/local/lib/python3.11/dist-packages (from scikit-image->fiftyone) (2025.1.10)\n",
            "Requirement already satisfied: lazy-loader>=0.4 in /usr/local/lib/python3.11/dist-packages (from scikit-image->fiftyone) (0.4)\n",
            "Requirement already satisfied: joblib>=1.2.0 in /usr/local/lib/python3.11/dist-packages (from scikit-learn->fiftyone) (1.4.2)\n",
            "Requirement already satisfied: threadpoolctl>=3.1.0 in /usr/local/lib/python3.11/dist-packages (from scikit-learn->fiftyone) (3.5.0)\n",
            "Requirement already satisfied: graphql-core<3.4.0,>=3.2.0 in /usr/local/lib/python3.11/dist-packages (from strawberry-graphql->fiftyone) (3.2.5)\n",
            "Requirement already satisfied: idna>=2.8 in /usr/local/lib/python3.11/dist-packages (from anyio<5,>=3.6.2->starlette>=0.24.0->fiftyone) (3.10)\n",
            "Requirement already satisfied: sniffio>=1.1 in /usr/local/lib/python3.11/dist-packages (from anyio<5,>=3.6.2->starlette>=0.24.0->fiftyone) (1.3.1)\n",
            "Requirement already satisfied: hyperframe<7,>=6.0 in /usr/local/lib/python3.11/dist-packages (from h2>=3.1.0->hypercorn>=0.13.2->fiftyone) (6.1.0)\n",
            "Requirement already satisfied: hpack<5,>=4.0 in /usr/local/lib/python3.11/dist-packages (from h2>=3.1.0->hypercorn>=0.13.2->fiftyone) (4.1.0)\n",
            "Requirement already satisfied: certifi in /usr/local/lib/python3.11/dist-packages (from httpx>=0.10.0->universal-analytics-python3<2,>=1.0.1->fiftyone) (2024.12.14)\n",
            "Requirement already satisfied: httpcore==1.* in /usr/local/lib/python3.11/dist-packages (from httpx>=0.10.0->universal-analytics-python3<2,>=1.0.1->fiftyone) (1.0.7)\n",
            "Requirement already satisfied: attrs>=19.2.0 in /usr/local/lib/python3.11/dist-packages (from jsonlines->voxel51-eta<0.15,>=0.14.0->fiftyone) (24.3.0)\n",
            "Requirement already satisfied: texttable in /usr/local/lib/python3.11/dist-packages (from py7zr->voxel51-eta<0.15,>=0.14.0->fiftyone) (1.7.0)\n",
            "Requirement already satisfied: pycryptodomex>=3.16.0 in /usr/local/lib/python3.11/dist-packages (from py7zr->voxel51-eta<0.15,>=0.14.0->fiftyone) (3.21.0)\n",
            "Requirement already satisfied: pyzstd>=0.15.9 in /usr/local/lib/python3.11/dist-packages (from py7zr->voxel51-eta<0.15,>=0.14.0->fiftyone) (0.16.2)\n",
            "Requirement already satisfied: pyppmd<1.2.0,>=1.1.0 in /usr/local/lib/python3.11/dist-packages (from py7zr->voxel51-eta<0.15,>=0.14.0->fiftyone) (1.1.1)\n",
            "Requirement already satisfied: pybcj<1.1.0,>=1.0.0 in /usr/local/lib/python3.11/dist-packages (from py7zr->voxel51-eta<0.15,>=0.14.0->fiftyone) (1.0.3)\n",
            "Requirement already satisfied: multivolumefile>=0.2.3 in /usr/local/lib/python3.11/dist-packages (from py7zr->voxel51-eta<0.15,>=0.14.0->fiftyone) (0.2.3)\n",
            "Requirement already satisfied: inflate64<1.1.0,>=1.0.0 in /usr/local/lib/python3.11/dist-packages (from py7zr->voxel51-eta<0.15,>=0.14.0->fiftyone) (1.0.1)\n",
            "Requirement already satisfied: brotli>=1.1.0 in /usr/local/lib/python3.11/dist-packages (from py7zr->voxel51-eta<0.15,>=0.14.0->fiftyone) (1.1.0)\n",
            "Requirement already satisfied: charset-normalizer<4,>=2 in /usr/local/lib/python3.11/dist-packages (from requests->voxel51-eta<0.15,>=0.14.0->fiftyone) (3.4.1)\n",
            "Drive already mounted at /content/drive; to attempt to forcibly remount, call drive.mount(\"/content/drive\", force_remount=True).\n"
          ]
        },
        {
          "output_type": "stream",
          "name": "stderr",
          "text": [
            "/usr/local/lib/python3.11/dist-packages/torchvision/models/_utils.py:208: UserWarning: The parameter 'pretrained' is deprecated since 0.13 and may be removed in the future, please use 'weights' instead.\n",
            "  warnings.warn(\n",
            "/usr/local/lib/python3.11/dist-packages/torchvision/models/_utils.py:223: UserWarning: Arguments other than a weight enum or `None` for 'weights' are deprecated since 0.13 and may be removed in the future. The current behavior is equivalent to passing `weights=FasterRCNN_ResNet50_FPN_Weights.COCO_V1`. You can also use `weights=FasterRCNN_ResNet50_FPN_Weights.DEFAULT` to get the most up-to-date weights.\n",
            "  warnings.warn(msg)\n"
          ]
        },
        {
          "output_type": "stream",
          "name": "stdout",
          "text": [
            "Epoch 1/10\n"
          ]
        },
        {
          "output_type": "stream",
          "name": "stderr",
          "text": [
            "\r  0%|          | 0/16 [00:00<?, ?it/s]/usr/local/lib/python3.11/dist-packages/torchvision/transforms/functional.py:154: UserWarning: The given NumPy array is not writable, and PyTorch does not support non-writable tensors. This means writing to this tensor will result in undefined behavior. You may want to copy the array to protect its data or make it writable before converting it to a tensor. This type of warning will be suppressed for the rest of this program. (Triggered internally at ../torch/csrc/utils/tensor_numpy.cpp:206.)\n",
            "  img = torch.from_numpy(pic.transpose((2, 0, 1))).contiguous()\n",
            "100%|██████████| 16/16 [00:28<00:00,  1.78s/it]\n"
          ]
        },
        {
          "output_type": "stream",
          "name": "stdout",
          "text": [
            "Loss: 0.7631\n",
            "Epoch 2/10\n"
          ]
        },
        {
          "output_type": "stream",
          "name": "stderr",
          "text": [
            "100%|██████████| 16/16 [00:27<00:00,  1.73s/it]\n"
          ]
        },
        {
          "output_type": "stream",
          "name": "stdout",
          "text": [
            "Loss: 0.4802\n",
            "Epoch 3/10\n"
          ]
        },
        {
          "output_type": "stream",
          "name": "stderr",
          "text": [
            "100%|██████████| 16/16 [00:27<00:00,  1.69s/it]\n"
          ]
        },
        {
          "output_type": "stream",
          "name": "stdout",
          "text": [
            "Loss: 0.3596\n",
            "Epoch 4/10\n"
          ]
        },
        {
          "output_type": "stream",
          "name": "stderr",
          "text": [
            "100%|██████████| 16/16 [00:27<00:00,  1.69s/it]\n"
          ]
        },
        {
          "output_type": "stream",
          "name": "stdout",
          "text": [
            "Loss: 0.3052\n",
            "Epoch 5/10\n"
          ]
        },
        {
          "output_type": "stream",
          "name": "stderr",
          "text": [
            "100%|██████████| 16/16 [00:27<00:00,  1.71s/it]\n"
          ]
        },
        {
          "output_type": "stream",
          "name": "stdout",
          "text": [
            "Loss: 0.2892\n",
            "Epoch 6/10\n"
          ]
        },
        {
          "output_type": "stream",
          "name": "stderr",
          "text": [
            "100%|██████████| 16/16 [00:27<00:00,  1.73s/it]\n"
          ]
        },
        {
          "output_type": "stream",
          "name": "stdout",
          "text": [
            "Loss: 0.2760\n",
            "Epoch 7/10\n"
          ]
        },
        {
          "output_type": "stream",
          "name": "stderr",
          "text": [
            "100%|██████████| 16/16 [00:27<00:00,  1.70s/it]\n"
          ]
        },
        {
          "output_type": "stream",
          "name": "stdout",
          "text": [
            "Loss: 0.2708\n",
            "Epoch 8/10\n"
          ]
        },
        {
          "output_type": "stream",
          "name": "stderr",
          "text": [
            "100%|██████████| 16/16 [00:27<00:00,  1.70s/it]\n"
          ]
        },
        {
          "output_type": "stream",
          "name": "stdout",
          "text": [
            "Loss: 0.2716\n",
            "Epoch 9/10\n"
          ]
        },
        {
          "output_type": "stream",
          "name": "stderr",
          "text": [
            "100%|██████████| 16/16 [00:27<00:00,  1.70s/it]\n"
          ]
        },
        {
          "output_type": "stream",
          "name": "stdout",
          "text": [
            "Loss: 0.2688\n",
            "Epoch 10/10\n"
          ]
        },
        {
          "output_type": "stream",
          "name": "stderr",
          "text": [
            "100%|██████████| 16/16 [00:27<00:00,  1.70s/it]\n"
          ]
        },
        {
          "output_type": "stream",
          "name": "stdout",
          "text": [
            "Loss: 0.2713\n",
            "[{'boxes': tensor([[ 312.2124,  828.8914,  406.1444,  898.9039],\n",
            "        [ 457.7838,  708.7759,  539.0325,  757.1996],\n",
            "        [ 525.6388,  765.1827,  600.7784,  817.3419],\n",
            "        [ 532.0266,  821.2490,  629.3361, 1166.7948],\n",
            "        [ 223.5900,  770.2482,  317.8626,  828.4991],\n",
            "        [ 246.7608,  932.0500,  346.8634,  998.5476],\n",
            "        [ 212.3806,  986.4753,  314.0635, 1066.3303],\n",
            "        [ 322.4213,  913.6779,  491.4206, 1212.5667],\n",
            "        [ 625.0313,  910.6759,  757.0964, 1264.6021],\n",
            "        [ 653.7896,  835.5346,  722.8300,  900.2736],\n",
            "        [ 207.7457, 1044.5726,  426.4037, 1492.0851],\n",
            "        [ 453.6230,  769.0441,  533.2292, 1140.1755],\n",
            "        [ 219.3587,  805.3044,  314.9918,  971.8682],\n",
            "        [ 284.2507,  904.9588,  472.3338, 1399.4092],\n",
            "        [ 883.1962,  994.6299,  965.8660, 1042.0034],\n",
            "        [ 479.6266,  793.5807,  643.9614, 1231.9977],\n",
            "        [ 657.3315, 1247.5168,  739.7831, 1282.2289],\n",
            "        [ 665.0464, 1248.0812,  751.3779, 1284.1909],\n",
            "        [ 228.3496,  769.9134,  311.9744,  802.1466],\n",
            "        [ 422.1541, 1278.0868,  502.1070, 1359.6747],\n",
            "        [ 444.6911, 1185.8767,  516.5905, 1249.1558],\n",
            "        [ 455.7106,  708.7268,  544.0384,  799.5825],\n",
            "        [ 462.5963,  249.1435,  515.3287,  294.9787],\n",
            "        [ 655.4614, 1245.2832,  714.9233, 1280.3962],\n",
            "        [ 446.3898, 1184.2068,  517.5836, 1245.1958],\n",
            "        [ 218.2556, 1252.7676,  436.7823, 1497.6411],\n",
            "        [ 216.1846,  776.1588,  320.2057,  977.1171],\n",
            "        [ 281.9317, 1447.7231,  360.3632, 1519.9297],\n",
            "        [ 466.0090, 1198.7063,  526.6713, 1239.1718],\n",
            "        [ 620.8641,  765.3196,  807.6834, 1306.6240],\n",
            "        [ 701.6156, 1239.6334,  748.4124, 1282.6467],\n",
            "        [ 447.2027, 1195.4933,  524.9374, 1239.5295],\n",
            "        [ 657.7614, 1247.7917,  736.0753, 1283.1428],\n",
            "        [ 416.9982, 1265.3182,  501.0382, 1380.6000],\n",
            "        [ 271.8784, 1413.5303,  365.4906, 1514.2108],\n",
            "        [ 430.3030, 1160.5238,  534.9398, 1258.2343],\n",
            "        [ 216.0007,  823.2999,  293.2259, 1043.8049],\n",
            "        [ 324.7920,  953.8501,  430.3894, 1256.4851],\n",
            "        [ 291.2455, 1459.2457,  359.9054, 1516.7422],\n",
            "        [ 659.2612, 1209.1259,  743.3439, 1285.2491],\n",
            "        [ 648.2789,  966.3252,  793.3019, 1322.6688],\n",
            "        [ 431.3918, 1152.8859,  530.8686, 1252.2960],\n",
            "        [ 698.8488, 1240.2065,  746.9290, 1280.4160],\n",
            "        [ 679.6926, 1230.7269,  738.0737, 1282.5756],\n",
            "        [ 162.2726, 1116.6107,  449.7630, 1325.8168],\n",
            "        [ 393.3137, 1369.2413,  470.8416, 1453.8688],\n",
            "        [ 222.2143,  864.4827,  342.7495, 1063.2964],\n",
            "        [ 216.1029, 1000.2109,  318.9343, 1079.6642],\n",
            "        [ 294.2579, 1478.3773,  365.7920, 1519.7797],\n",
            "        [ 394.3475, 1374.9886,  470.8852, 1455.3706],\n",
            "        [ 529.0305,  791.3778,  586.7588,  827.7504],\n",
            "        [ 465.5804,  766.5778,  533.7880,  796.7179],\n",
            "        [ 675.8331, 1240.7898,  753.1159, 1279.6105],\n",
            "        [ 407.2598, 1392.9165,  473.2806, 1458.8849],\n",
            "        [ 256.2877, 1125.2135,  502.0707, 1440.8883],\n",
            "        [ 300.9214,  753.4795,  506.8521, 1267.3602]], device='cuda:0'), 'labels': tensor([4, 4, 4, 5, 4, 4, 4, 5, 5, 4, 5, 5, 5, 5, 4, 5, 4, 3, 4, 4, 3, 4, 4, 3,\n",
            "        5, 5, 4, 3, 3, 5, 3, 4, 5, 5, 5, 3, 5, 5, 5, 3, 5, 5, 4, 3, 5, 5, 4, 5,\n",
            "        3, 3, 4, 4, 5, 4, 5, 5], device='cuda:0'), 'scores': tensor([0.9875, 0.9841, 0.9823, 0.9733, 0.9699, 0.9341, 0.9318, 0.9204, 0.9028,\n",
            "        0.8546, 0.7615, 0.7571, 0.5179, 0.5151, 0.3407, 0.3113, 0.2236, 0.1993,\n",
            "        0.1939, 0.1841, 0.1773, 0.1715, 0.1488, 0.1254, 0.1148, 0.1084, 0.1082,\n",
            "        0.1051, 0.1029, 0.1002, 0.0984, 0.0924, 0.0909, 0.0841, 0.0806, 0.0786,\n",
            "        0.0769, 0.0760, 0.0723, 0.0712, 0.0711, 0.0686, 0.0682, 0.0681, 0.0681,\n",
            "        0.0674, 0.0654, 0.0627, 0.0618, 0.0590, 0.0572, 0.0568, 0.0567, 0.0552,\n",
            "        0.0524, 0.0518], device='cuda:0')}]\n",
            "[{'boxes': tensor([[2257.1118,  389.2142, 2346.7871,  574.0795],\n",
            "        [2293.4600,  319.6568, 2332.1855,  341.6090],\n",
            "        [2266.7212,  343.9434, 2347.8474,  403.8258],\n",
            "        [2242.8945,  303.0871, 2348.8589,  621.0669]], device='cuda:0'), 'labels': tensor([5, 4, 4, 5], device='cuda:0'), 'scores': tensor([0.8917, 0.4369, 0.1785, 0.0743], device='cuda:0')}]\n",
            "[{'boxes': tensor([[2401.7524,  600.7148, 2454.6638,  669.0146],\n",
            "        [2187.5535,  923.6509, 2269.5315, 1000.3329],\n",
            "        [2187.9390,  938.0673, 2265.3416, 1011.3562],\n",
            "        [1749.4355,  152.2463, 1830.8905,  293.7051]], device='cuda:0'), 'labels': tensor([4, 4, 5, 4], device='cuda:0'), 'scores': tensor([0.4422, 0.1594, 0.0856, 0.0545], device='cuda:0')}]\n",
            "[{'boxes': tensor([[1132.4857,  953.5785, 1206.6180, 1023.4343],\n",
            "        [1100.1294, 1031.1274, 1267.0605, 1395.7185],\n",
            "        [1163.4806, 1406.0968, 1206.7543, 1461.3257],\n",
            "        [1141.4329, 1414.5719, 1211.1588, 1471.6222],\n",
            "        [1158.0807, 1408.7321, 1210.1632, 1464.1073],\n",
            "        [1197.2123, 1388.2355, 1242.3853, 1459.2803],\n",
            "        [1155.4634, 1417.8079, 1239.2312, 1460.2693],\n",
            "        [1156.8365, 1410.9163, 1209.8727, 1462.9031],\n",
            "        [1197.2948, 1387.7036, 1241.8800, 1456.8276],\n",
            "        [1151.8207, 1425.0793, 1275.3097, 1467.8990],\n",
            "        [1196.4152, 1389.0685, 1242.4448, 1457.2389],\n",
            "        [1157.3625, 1384.8494, 1200.4208, 1454.9948],\n",
            "        [1241.1561, 1401.2340, 1295.9865, 1461.8870],\n",
            "        [1083.2944,  859.9391, 1277.9929, 1514.7899],\n",
            "        [1158.0770, 1387.3589, 1221.4524, 1450.3569],\n",
            "        [1186.5934, 1407.7805, 1254.9293, 1467.9207],\n",
            "        [1132.2484, 1420.1349, 1235.4404, 1465.2798]], device='cuda:0'), 'labels': tensor([4, 5, 3, 3, 5, 3, 3, 4, 5, 3, 4, 5, 3, 5, 3, 3, 5], device='cuda:0'), 'scores': tensor([0.9830, 0.9406, 0.2216, 0.1557, 0.1289, 0.1208, 0.1141, 0.1010, 0.0951,\n",
            "        0.0776, 0.0608, 0.0607, 0.0607, 0.0593, 0.0575, 0.0571, 0.0551],\n",
            "       device='cuda:0')}]\n",
            "[{'boxes': tensor([[ 351.1090, 1048.8215,  435.9818, 1110.3673],\n",
            "        [ 163.1282, 1061.6167,  242.7089, 1129.3488],\n",
            "        [ 333.1507, 1130.1915,  501.2337, 1438.3319],\n",
            "        [ 157.5951, 1124.5562,  304.5167, 1467.3108],\n",
            "        [ 402.3993, 1440.3313,  467.7485, 1490.5741],\n",
            "        [ 214.3229, 1457.0416,  305.9475, 1520.0000],\n",
            "        [ 400.5726, 1436.8656,  466.3199, 1489.7284],\n",
            "        [ 377.5634, 1456.5604,  483.2381, 1493.3655],\n",
            "        [ 386.8731, 1448.4744,  471.3918, 1489.1973],\n",
            "        [ 380.3513, 1424.6035,  459.3594, 1487.8529],\n",
            "        [ 396.9716, 1428.6136,  475.8891, 1472.1688],\n",
            "        [ 257.7290, 1463.0164,  303.1117, 1514.6057],\n",
            "        [ 380.2950, 1453.9531,  479.3192, 1493.0994],\n",
            "        [ 426.7475, 1448.4802,  471.1072, 1497.3608],\n",
            "        [ 207.1763, 1466.5671,  307.7809, 1518.0996],\n",
            "        [ 403.5892, 1455.0171,  450.9022, 1494.7133],\n",
            "        [ 239.1940, 1455.0796,  300.9362, 1516.7847],\n",
            "        [ 242.0906, 1468.2982,  292.5517, 1520.0000]], device='cuda:0'), 'labels': tensor([4, 4, 5, 5, 3, 3, 5, 3, 4, 3, 3, 3, 5, 3, 4, 3, 5, 3], device='cuda:0'), 'scores': tensor([0.9962, 0.9872, 0.9705, 0.9699, 0.2184, 0.1486, 0.1202, 0.1054, 0.0897,\n",
            "        0.0854, 0.0697, 0.0683, 0.0681, 0.0635, 0.0622, 0.0598, 0.0545, 0.0512],\n",
            "       device='cuda:0')}]\n"
          ]
        }
      ],
      "source": [
        "# Install necessary libraries\n",
        "!pip install torch torchvision matplotlib tqdm\n",
        "!pip install fiftyone  # For dataset visualization if needed\n",
        "\n",
        "import os\n",
        "import torch\n",
        "import torchvision\n",
        "import xml.etree.ElementTree as ET\n",
        "from torchvision.models.detection import FasterRCNN\n",
        "from torchvision.models.detection.faster_rcnn import FastRCNNPredictor\n",
        "from torchvision.transforms import functional as F\n",
        "from torch.utils.data import DataLoader, Dataset\n",
        "from torchvision.ops import box_convert\n",
        "import matplotlib.pyplot as plt\n",
        "from tqdm import tqdm\n",
        "\n",
        "from google.colab import drive\n",
        "\n",
        "drive.mount('/content/drive')\n",
        "\n",
        "# Define the path to the dataset\n",
        "data_dir = '/content/drive/MyDrive/dataset'\n",
        "train_images = os.path.join(data_dir, 'train/images')\n",
        "train_labels = os.path.join(data_dir, 'train/labels')\n",
        "test_images = os.path.join(data_dir, 'test/images')\n",
        "test_labels = os.path.join(data_dir, 'test/labels')\n",
        "val_images = os.path.join(data_dir, 'val/images')\n",
        "val_labels = os.path.join(data_dir, 'val/labels')\n",
        "\n",
        "# Define your classes\n",
        "class_labels = ['helmets', 'IFR suit', 'Boots','Helmets','IFR_Suit']\n",
        "\n",
        "# Helper function to parse XML annotations\n",
        "# Update parse_xml function to handle unannotated images\n",
        "def parse_xml(file):\n",
        "    if not os.path.exists(file):  # If the annotation file does not exist\n",
        "        return [], []  # Return empty boxes and labels\n",
        "\n",
        "    tree = ET.parse(file)\n",
        "    root = tree.getroot()\n",
        "    boxes = []\n",
        "    labels = []\n",
        "    for obj in root.findall('object'):\n",
        "        name = obj.find('name').text\n",
        "        bbox = obj.find('bndbox')\n",
        "        xmin = int(bbox.find('xmin').text)\n",
        "        ymin = int(bbox.find('ymin').text)\n",
        "        xmax = int(bbox.find('xmax').text)\n",
        "        ymax = int(bbox.find('ymax').text)\n",
        "        if xmax > xmin and ymax > ymin:  # Ensure bounding box dimensions are valid\n",
        "            boxes.append([xmin, ymin, xmax, ymax])\n",
        "            labels.append(class_labels.index(name) + 1)  # Classes start from 1\n",
        "    return boxes, labels\n",
        "\n",
        "# Modify the __getitem__ method in CustomDataset\n",
        "class CustomDataset(Dataset):\n",
        "    def __init__(self, images_dir, labels_dir, transforms=None):\n",
        "        self.images_dir = images_dir\n",
        "        self.labels_dir = labels_dir\n",
        "        self.transforms = transforms\n",
        "        self.image_files = sorted(os.listdir(images_dir))\n",
        "\n",
        "    def __len__(self):\n",
        "        return len(self.image_files)\n",
        "\n",
        "    def __getitem__(self, idx):\n",
        "        image_file = self.image_files[idx]\n",
        "        image_path = os.path.join(self.images_dir, image_file)\n",
        "        label_path = os.path.join(self.labels_dir, image_file.replace('.jpg', '.xml'))\n",
        "\n",
        "        # Load image\n",
        "        image = plt.imread(image_path)\n",
        "        image = F.to_tensor(image)\n",
        "\n",
        "        # Parse annotations\n",
        "        boxes, labels = parse_xml(label_path)\n",
        "        boxes = torch.as_tensor(boxes, dtype=torch.float32)\n",
        "        labels = torch.as_tensor(labels, dtype=torch.int64)\n",
        "\n",
        "        # Handle unannotated images\n",
        "        if len(boxes) == 0:\n",
        "            boxes = torch.zeros((0, 4), dtype=torch.float32)\n",
        "            labels = torch.zeros((0,), dtype=torch.int64)\n",
        "\n",
        "        # Create target dict\n",
        "        target = {\n",
        "            'boxes': boxes,\n",
        "            'labels': labels\n",
        "        }\n",
        "\n",
        "        if self.transforms:\n",
        "            image, target = self.transforms(image, target)\n",
        "\n",
        "        return image, target\n",
        "\n",
        "# No other changes are required for the training loop or model setup.\n",
        "\n",
        "# Create dataset objects\n",
        "train_dataset = CustomDataset(train_images, train_labels)\n",
        "test_dataset = CustomDataset(test_images, test_labels)\n",
        "val_dataset = CustomDataset(val_images, val_labels)\n",
        "\n",
        "# DataLoader\n",
        "train_loader = DataLoader(train_dataset, batch_size=4, shuffle=True, collate_fn=lambda x: tuple(zip(*x)))\n",
        "val_loader = DataLoader(val_dataset, batch_size=4, shuffle=False, collate_fn=lambda x: tuple(zip(*x)))\n",
        "\n",
        "# Load pre-trained Faster R-CNN model\n",
        "model = torchvision.models.detection.fasterrcnn_resnet50_fpn(pretrained=True)\n",
        "\n",
        "# Modify the model for custom dataset\n",
        "num_classes = len(class_labels) + 1  # Add 1 for background\n",
        "in_features = model.roi_heads.box_predictor.cls_score.in_features\n",
        "model.roi_heads.box_predictor = FastRCNNPredictor(in_features, num_classes)\n",
        "\n",
        "# Move model to GPU if available\n",
        "device = torch.device('cuda') if torch.cuda.is_available() else torch.device('gpu')\n",
        "model.to(device)\n",
        "\n",
        "# Define optimizer and learning rate scheduler\n",
        "optimizer = torch.optim.SGD(model.parameters(), lr=0.005, momentum=0.9, weight_decay=0.0005)\n",
        "lr_scheduler = torch.optim.lr_scheduler.StepLR(optimizer, step_size=3, gamma=0.1)\n",
        "\n",
        "# Training function\n",
        "def train_one_epoch(model, optimizer, data_loader, device, epoch):\n",
        "    model.train()\n",
        "    epoch_loss = 0\n",
        "    for images, targets in tqdm(data_loader):\n",
        "        images = list(image.to(device) for image in images)\n",
        "        targets = [{k: v.to(device) for k, v in t.items()} for t in targets]\n",
        "\n",
        "        loss_dict = model(images, targets)\n",
        "        losses = sum(loss for loss in loss_dict.values())\n",
        "        optimizer.zero_grad()\n",
        "        losses.backward()\n",
        "        optimizer.step()\n",
        "\n",
        "        epoch_loss += losses.item()\n",
        "    return epoch_loss / len(data_loader)\n",
        "\n",
        "# Training loop\n",
        "num_epochs = 10\n",
        "for epoch in range(num_epochs):\n",
        "    print(f\"Epoch {epoch+1}/{num_epochs}\")\n",
        "    epoch_loss = train_one_epoch(model, optimizer, train_loader, device, epoch)\n",
        "    print(f\"Loss: {epoch_loss:.4f}\")\n",
        "    lr_scheduler.step()\n",
        "\n",
        "# Save the trained model\n",
        "model_save_path = '/content/drive/My Drive/faster_rcnn_model.pth'\n",
        "torch.save(model.state_dict(), model_save_path)\n",
        "\n",
        "# Load model for inference\n",
        "model.eval()\n",
        "\n",
        "# Perform inference on test dataset\n",
        "for i in range(5):  # Test on 5 random images\n",
        "    image, _ = test_dataset[i]\n",
        "    with torch.no_grad():\n",
        "        prediction = model([image.to(device)])\n",
        "    # Visualize results\n",
        "    print(prediction)"
      ]
    },
    {
      "cell_type": "code",
      "source": [
        "!pip install torchmetrics"
      ],
      "metadata": {
        "colab": {
          "base_uri": "https://localhost:8080/"
        },
        "id": "nQo_DKXyo2Pu",
        "outputId": "0757070b-8089-4426-fe88-0a1585c4ebe8"
      },
      "execution_count": 3,
      "outputs": [
        {
          "output_type": "stream",
          "name": "stdout",
          "text": [
            "Requirement already satisfied: torchmetrics in /usr/local/lib/python3.11/dist-packages (1.6.1)\n",
            "Requirement already satisfied: numpy>1.20.0 in /usr/local/lib/python3.11/dist-packages (from torchmetrics) (1.26.4)\n",
            "Requirement already satisfied: packaging>17.1 in /usr/local/lib/python3.11/dist-packages (from torchmetrics) (24.2)\n",
            "Requirement already satisfied: torch>=2.0.0 in /usr/local/lib/python3.11/dist-packages (from torchmetrics) (2.5.1+cu121)\n",
            "Requirement already satisfied: lightning-utilities>=0.8.0 in /usr/local/lib/python3.11/dist-packages (from torchmetrics) (0.11.9)\n",
            "Requirement already satisfied: setuptools in /usr/local/lib/python3.11/dist-packages (from lightning-utilities>=0.8.0->torchmetrics) (75.1.0)\n",
            "Requirement already satisfied: typing-extensions in /usr/local/lib/python3.11/dist-packages (from lightning-utilities>=0.8.0->torchmetrics) (4.12.2)\n",
            "Requirement already satisfied: filelock in /usr/local/lib/python3.11/dist-packages (from torch>=2.0.0->torchmetrics) (3.17.0)\n",
            "Requirement already satisfied: networkx in /usr/local/lib/python3.11/dist-packages (from torch>=2.0.0->torchmetrics) (3.4.2)\n",
            "Requirement already satisfied: jinja2 in /usr/local/lib/python3.11/dist-packages (from torch>=2.0.0->torchmetrics) (3.1.5)\n",
            "Requirement already satisfied: fsspec in /usr/local/lib/python3.11/dist-packages (from torch>=2.0.0->torchmetrics) (2024.10.0)\n",
            "Requirement already satisfied: nvidia-cuda-nvrtc-cu12==12.1.105 in /usr/local/lib/python3.11/dist-packages (from torch>=2.0.0->torchmetrics) (12.1.105)\n",
            "Requirement already satisfied: nvidia-cuda-runtime-cu12==12.1.105 in /usr/local/lib/python3.11/dist-packages (from torch>=2.0.0->torchmetrics) (12.1.105)\n",
            "Requirement already satisfied: nvidia-cuda-cupti-cu12==12.1.105 in /usr/local/lib/python3.11/dist-packages (from torch>=2.0.0->torchmetrics) (12.1.105)\n",
            "Requirement already satisfied: nvidia-cudnn-cu12==9.1.0.70 in /usr/local/lib/python3.11/dist-packages (from torch>=2.0.0->torchmetrics) (9.1.0.70)\n",
            "Requirement already satisfied: nvidia-cublas-cu12==12.1.3.1 in /usr/local/lib/python3.11/dist-packages (from torch>=2.0.0->torchmetrics) (12.1.3.1)\n",
            "Requirement already satisfied: nvidia-cufft-cu12==11.0.2.54 in /usr/local/lib/python3.11/dist-packages (from torch>=2.0.0->torchmetrics) (11.0.2.54)\n",
            "Requirement already satisfied: nvidia-curand-cu12==10.3.2.106 in /usr/local/lib/python3.11/dist-packages (from torch>=2.0.0->torchmetrics) (10.3.2.106)\n",
            "Requirement already satisfied: nvidia-cusolver-cu12==11.4.5.107 in /usr/local/lib/python3.11/dist-packages (from torch>=2.0.0->torchmetrics) (11.4.5.107)\n",
            "Requirement already satisfied: nvidia-cusparse-cu12==12.1.0.106 in /usr/local/lib/python3.11/dist-packages (from torch>=2.0.0->torchmetrics) (12.1.0.106)\n",
            "Requirement already satisfied: nvidia-nccl-cu12==2.21.5 in /usr/local/lib/python3.11/dist-packages (from torch>=2.0.0->torchmetrics) (2.21.5)\n",
            "Requirement already satisfied: nvidia-nvtx-cu12==12.1.105 in /usr/local/lib/python3.11/dist-packages (from torch>=2.0.0->torchmetrics) (12.1.105)\n",
            "Requirement already satisfied: triton==3.1.0 in /usr/local/lib/python3.11/dist-packages (from torch>=2.0.0->torchmetrics) (3.1.0)\n",
            "Requirement already satisfied: sympy==1.13.1 in /usr/local/lib/python3.11/dist-packages (from torch>=2.0.0->torchmetrics) (1.13.1)\n",
            "Requirement already satisfied: nvidia-nvjitlink-cu12 in /usr/local/lib/python3.11/dist-packages (from nvidia-cusolver-cu12==11.4.5.107->torch>=2.0.0->torchmetrics) (12.6.85)\n",
            "Requirement already satisfied: mpmath<1.4,>=1.1.0 in /usr/local/lib/python3.11/dist-packages (from sympy==1.13.1->torch>=2.0.0->torchmetrics) (1.3.0)\n",
            "Requirement already satisfied: MarkupSafe>=2.0 in /usr/local/lib/python3.11/dist-packages (from jinja2->torch>=2.0.0->torchmetrics) (3.0.2)\n"
          ]
        }
      ]
    },
    {
      "cell_type": "markdown",
      "source": [
        "# Metrics (  10 Epochs)"
      ],
      "metadata": {
        "id": "Df1SjczaRIgt"
      }
    },
    {
      "cell_type": "code",
      "source": [
        "from sklearn.metrics import precision_recall_curve, auc, average_precision_score # Import average_precision_score\n",
        "import numpy as np\n",
        "import torchmetrics\n",
        "from tqdm import tqdm  # Import tqdm\n",
        "\n",
        "# Function to calculate the intersection over union (IoU)\n",
        "def compute_iou(pred_box, true_box):\n",
        "    # Pred and true boxes are [xmin, ymin, xmax, ymax]\n",
        "    x1, y1, x2, y2 = pred_box\n",
        "    x1_gt, y1_gt, x2_gt, y2_gt = true_box\n",
        "\n",
        "    # Intersection coordinates\n",
        "    xi1 = max(x1, x1_gt)\n",
        "    yi1 = max(y1, y1_gt)\n",
        "    xi2 = min(x2, x2_gt)\n",
        "    yi2 = min(y2, y2_gt)\n",
        "\n",
        "    # Intersection area\n",
        "    intersection_area = max(0, xi2 - xi1) * max(0, yi2 - yi1)\n",
        "\n",
        "    # Area of both boxes\n",
        "    pred_area = (x2 - x1) * (y2 - y1)\n",
        "    true_area = (x2_gt - x1_gt) * (y2_gt - y1_gt)\n",
        "\n",
        "    # Union area\n",
        "    union_area = pred_area + true_area - intersection_area\n",
        "\n",
        "    # IoU\n",
        "    iou = intersection_area / union_area\n",
        "    return iou\n",
        "\n",
        "# Function to calculate precision, recall, F1, and mAP\n",
        "def evaluate_model(model, data_loader, device, iou_threshold=0.5):\n",
        "    model.eval()\n",
        "    all_preds = []\n",
        "    all_labels = []\n",
        "\n",
        "    # Iterate through the dataset\n",
        "    for images, targets in tqdm(data_loader):  # Wrap data_loader with tqdm\n",
        "        images = list(image.to(device) for image in images)\n",
        "        targets = [{k: v.to(device) for k, v in t.items()} for t in targets]\n",
        "\n",
        "        with torch.no_grad():\n",
        "            predictions = model(images)\n",
        "\n",
        "        for i in range(len(predictions)):  # Iterate over images in the batch\n",
        "            pred_boxes = predictions[i]['boxes'].cpu().numpy()\n",
        "            pred_labels = predictions[i]['labels'].cpu().numpy()\n",
        "            true_boxes = targets[i]['boxes'].cpu().numpy()\n",
        "            true_labels = targets[i]['labels'].cpu().numpy()\n",
        "\n",
        "            # Match predicted boxes to ground truth boxes based on IoU\n",
        "            for j in range(len(pred_boxes)):\n",
        "                iou_max = 0  # Initialize iou_max for each prediction\n",
        "                matched_label = -1  # Initialize matched label as unmatched\n",
        "\n",
        "                for k in range(len(true_boxes)):\n",
        "                    iou = compute_iou(pred_boxes[j], true_boxes[k])\n",
        "                    if iou > iou_max:\n",
        "                        iou_max = iou\n",
        "                        matched_label = true_labels[k]\n",
        "\n",
        "                # If IoU is above the threshold, consider it a correct prediction\n",
        "                if iou_max >= iou_threshold:\n",
        "                    all_preds.append(pred_labels[j])  # Append predicted label\n",
        "                    all_labels.append(matched_label) # Append true label\n",
        "\n",
        "    # Convert to numpy arrays for sklearn metrics\n",
        "    all_preds = np.array(all_preds)\n",
        "    all_labels = np.array(all_labels)\n",
        "\n",
        "    # Calculate average precision for each class\n",
        "    average_precisions = []\n",
        "    unique_labels = np.unique(all_labels)  # Get all unique labels\n",
        "    for label in unique_labels:\n",
        "        if label != -1:  # Skip unmatched labels\n",
        "            # Consider predictions for the current label only\n",
        "            y_true = (all_labels == label).astype(int)\n",
        "            y_pred = (all_preds == label).astype(int)\n",
        "\n",
        "            # Calculate average precision for the current label\n",
        "            average_precision = average_precision_score(y_true, y_pred)\n",
        "            average_precisions.append(average_precision)\n",
        "\n",
        "    # Calculate mean average precision (mAP)\n",
        "    map_score = np.mean(average_precisions) if average_precisions else 0\n",
        "\n",
        "    # For precision, recall, F1 score, micro averaging\n",
        "    precision, recall, _ = precision_recall_curve(\n",
        "        (all_labels != -1).astype(int),  # True if matched to any object\n",
        "        all_preds,  # Predicted label\n",
        "        pos_label=1,  # Consider any matched label as positive\n",
        "    )\n",
        "    f1_score = 2 * (precision * recall) / (precision + recall + 1e-8)  # Avoid zero division\n",
        "\n",
        "    # Return the micro-average precision, recall, f1 score, and mAP\n",
        "    return np.mean(precision), np.mean(recall), np.mean(f1_score), map_score\n",
        "\n",
        "# Calculate and print evaluation metrics\n",
        "# ... your existing code ...\n",
        "\n",
        "# DataLoader\n",
        "train_loader = DataLoader(train_dataset, batch_size=4, shuffle=True, collate_fn=lambda x: tuple(zip(*x)))\n",
        "val_loader = DataLoader(val_dataset, batch_size=4, shuffle=False, collate_fn=lambda x: tuple(zip(*x)))\n",
        "test_loader = DataLoader(test_dataset, batch_size=4, shuffle=False, collate_fn=lambda x: tuple(zip(*x))) # Define test_loader\n",
        "\n",
        "# ... rest of your code ...\n",
        "precision, recall, f1_score, map_score = evaluate_model(model, test_loader, device)\n",
        "\n",
        "print(f\"Precision: {precision:.4f}\")\n",
        "print(f\"Recall: {recall:.4f}\")\n",
        "print(f\"F1 Score: {f1_score:.4f}\")\n",
        "print(f\"mAP: {map_score:.4f}\")\n",
        "\n",
        "\n",
        "\n"
      ],
      "metadata": {
        "colab": {
          "base_uri": "https://localhost:8080/"
        },
        "id": "KLtxX6W5oymU",
        "outputId": "ae311abf-af32-4acc-801f-8c9e2f6e1637"
      },
      "execution_count": 18,
      "outputs": [
        {
          "output_type": "stream",
          "name": "stderr",
          "text": [
            "100%|██████████| 4/4 [00:03<00:00,  1.12it/s]"
          ]
        },
        {
          "output_type": "stream",
          "name": "stdout",
          "text": [
            "Precision: 1.0000\n",
            "Recall: 0.5765\n",
            "F1 Score: 0.6337\n",
            "mAP: 0.6746\n"
          ]
        },
        {
          "output_type": "stream",
          "name": "stderr",
          "text": [
            "\n"
          ]
        }
      ]
    },
    {
      "cell_type": "markdown",
      "source": [
        "# **P-R Curve**"
      ],
      "metadata": {
        "id": "Kzgcbb7CRRGE"
      }
    },
    {
      "cell_type": "code",
      "source": [
        "from sklearn.metrics import precision_recall_curve, auc, average_precision_score # Import average_precision_score\n",
        "import numpy as np\n",
        "import torchmetrics\n",
        "from tqdm import tqdm  # Import tqdm\n",
        "\n",
        "# Function to calculate the intersection over union (IoU)\n",
        "def compute_iou(pred_box, true_box):\n",
        "    # Pred and true boxes are [xmin, ymin, xmax, ymax]\n",
        "    x1, y1, x2, y2 = pred_box\n",
        "    x1_gt, y1_gt, x2_gt, y2_gt = true_box\n",
        "\n",
        "    # Intersection coordinates\n",
        "    xi1 = max(x1, x1_gt)\n",
        "    yi1 = max(y1, y1_gt)\n",
        "    xi2 = min(x2, x2_gt)\n",
        "    yi2 = min(y2, y2_gt)\n",
        "\n",
        "    # Intersection area\n",
        "    intersection_area = max(0, xi2 - xi1) * max(0, yi2 - yi1)\n",
        "\n",
        "    # Area of both boxes\n",
        "    pred_area = (x2 - x1) * (y2 - y1)\n",
        "    true_area = (x2_gt - x1_gt) * (y2_gt - y1_gt)\n",
        "\n",
        "    # Union area\n",
        "    union_area = pred_area + true_area - intersection_area\n",
        "\n",
        "    # IoU\n",
        "    iou = intersection_area / union_area\n",
        "    return iou\n",
        "\n",
        "# Function to calculate precision, recall, F1, and mAP\n",
        "def evaluate_model(model, data_loader, device, iou_threshold=0.5):\n",
        "    model.eval()\n",
        "    all_preds = []\n",
        "    all_labels = []\n",
        "\n",
        "    # Iterate through the dataset\n",
        "    for images, targets in tqdm(data_loader):  # Wrap data_loader with tqdm\n",
        "        images = list(image.to(device) for image in images)\n",
        "        targets = [{k: v.to(device) for k, v in t.items()} for t in targets]\n",
        "\n",
        "        with torch.no_grad():\n",
        "            predictions = model(images)\n",
        "\n",
        "        for i in range(len(predictions)):  # Iterate over images in the batch\n",
        "            pred_boxes = predictions[i]['boxes'].cpu().numpy()\n",
        "            pred_labels = predictions[i]['labels'].cpu().numpy()\n",
        "            true_boxes = targets[i]['boxes'].cpu().numpy()\n",
        "            true_labels = targets[i]['labels'].cpu().numpy()\n",
        "\n",
        "            # Match predicted boxes to ground truth boxes based on IoU\n",
        "            for j in range(len(pred_boxes)):\n",
        "                iou_max = 0  # Initialize iou_max for each prediction\n",
        "                matched_label = -1  # Initialize matched label as unmatched\n",
        "\n",
        "                for k in range(len(true_boxes)):\n",
        "                    iou = compute_iou(pred_boxes[j], true_boxes[k])\n",
        "                    if iou > iou_max:\n",
        "                        iou_max = iou\n",
        "                        matched_label = true_labels[k]\n",
        "\n",
        "                # If IoU is above the threshold, consider it a correct prediction\n",
        "                if iou_max >= iou_threshold:\n",
        "                    all_preds.append(pred_labels[j])  # Append predicted label\n",
        "                    all_labels.append(matched_label) # Append true label\n",
        "\n",
        "    # Convert to numpy arrays for sklearn metrics\n",
        "    all_preds = np.array(all_preds)\n",
        "    all_labels = np.array(all_labels)\n",
        "\n",
        "    # Calculate average precision for each class\n",
        "    average_precisions = []\n",
        "    unique_labels = np.unique(all_labels)  # Get all unique labels\n",
        "    for label in unique_labels:\n",
        "        if label != -1:  # Skip unmatched labels\n",
        "            # Consider predictions for the current label only\n",
        "            y_true = (all_labels == label).astype(int)\n",
        "            y_pred = (all_preds == label).astype(int)\n",
        "\n",
        "            # Calculate average precision for the current label\n",
        "            average_precision = average_precision_score(y_true, y_pred)\n",
        "            average_precisions.append(average_precision)\n",
        "\n",
        "    # Calculate mean average precision (mAP)\n",
        "    map_score = np.mean(average_precisions) if average_precisions else 0\n",
        "\n",
        "    # For precision, recall, F1 score, micro averaging\n",
        "    precision, recall, _ = precision_recall_curve(\n",
        "        (all_labels != -1).astype(int),  # True if matched to any object\n",
        "        all_preds,  # Predicted label\n",
        "        pos_label=1,  # Consider any matched label as positive\n",
        "    )\n",
        "    f1_score = 2 * (precision * recall) / (precision + recall + 1e-8)  # Avoid zero division\n",
        "\n",
        "    # Return the micro-average precision, recall, f1 score, and mAP\n",
        "    return np.mean(precision), np.mean(recall), np.mean(f1_score), map_score\n",
        "\n",
        "# Calculate and print evaluation metrics\n",
        "# ... your existing code ...\n",
        "\n",
        "# DataLoader\n",
        "train_loader = DataLoader(train_dataset, batch_size=4, shuffle=True, collate_fn=lambda x: tuple(zip(*x)))\n",
        "val_loader = DataLoader(val_dataset, batch_size=4, shuffle=False, collate_fn=lambda x: tuple(zip(*x)))\n",
        "test_loader = DataLoader(test_dataset, batch_size=4, shuffle=False, collate_fn=lambda x: tuple(zip(*x))) # Define test_loader\n",
        "\n",
        "# ... rest of your code ...\n",
        "precision, recall, f1_score, map_score = evaluate_model(model, test_loader, device)\n",
        "\n",
        "\n",
        "\n",
        "def plot_precision_recall_curve(precision, recall):\n",
        "    plt.figure(figsize=(6, 6))\n",
        "    plt.plot(recall, precision, marker='.', label='PR curve')\n",
        "    plt.xlabel('Recall')\n",
        "    plt.ylabel('Precision')\n",
        "    plt.title('Precision-Recall Curve')\n",
        "    plt.grid(True)\n",
        "    plt.show()\n",
        "\n",
        "# Assuming 'test_loader' is properly defined with your DataLoader\n",
        "precision, recall, f1_score, map_score = evaluate_model(model, test_loader, device)\n",
        "plot_precision_recall_curve(precision, recall)\n",
        "\n"
      ],
      "metadata": {
        "colab": {
          "base_uri": "https://localhost:8080/",
          "height": 599
        },
        "id": "SXEg9rRFx66a",
        "outputId": "269cbec9-dc8a-4367-e956-f85631109fd5"
      },
      "execution_count": 19,
      "outputs": [
        {
          "output_type": "stream",
          "name": "stderr",
          "text": [
            "100%|██████████| 4/4 [00:03<00:00,  1.03it/s]\n",
            "100%|██████████| 4/4 [00:04<00:00,  1.00s/it]\n"
          ]
        },
        {
          "output_type": "display_data",
          "data": {
            "text/plain": [
              "<Figure size 600x600 with 1 Axes>"
            ],
            "image/png": "[encoded data removed]"
          },
          "metadata": {}
        }
      ]
    },
    {
      "cell_type": "markdown",
      "source": [
        "# **Confusion Matrix**"
      ],
      "metadata": {
        "id": "IH6fO3QuRZK_"
      }
    },
    {
      "cell_type": "code",
      "source": [
        "import torch\n",
        "import numpy as np\n",
        "import seaborn as sns\n",
        "import matplotlib.pyplot as plt\n",
        "from sklearn.metrics import confusion_matrix\n",
        "\n",
        "# Function to calculate and plot confusion matrix\n",
        "def plot_confusion_matrix(model, data_loader, device, num_classes=3, iou_threshold=0.5):\n",
        "    model.eval()\n",
        "    all_preds = []\n",
        "    all_labels = []\n",
        "\n",
        "    # Collect predictions and true labels\n",
        "    for images, targets in data_loader:\n",
        "        images = [image.to(device) for image in images]\n",
        "        targets = [{k: v.to(device) for k, v in t.items()} for t in targets]\n",
        "\n",
        "        with torch.no_grad():\n",
        "            predictions = model(images)\n",
        "\n",
        "        for i in range(len(predictions)):  # Iterate over images in the batch\n",
        "            pred_boxes = predictions[i]['boxes'].cpu().numpy()\n",
        "            pred_labels = predictions[i]['labels'].cpu().numpy()\n",
        "            true_boxes = targets[i]['boxes'].cpu().numpy()\n",
        "            true_labels = targets[i]['labels'].cpu().numpy()\n",
        "\n",
        "            # Match predicted boxes to ground truth boxes based on IoU\n",
        "            for j in range(len(pred_boxes)):\n",
        "                iou_max = 0  # Initialize iou_max for each prediction\n",
        "                matched_label = -1  # Initialize matched label as unmatched\n",
        "\n",
        "                for k in range(len(true_boxes)):\n",
        "                    iou = compute_iou(pred_boxes[j], true_boxes[k])\n",
        "                    if iou > iou_max:\n",
        "                        iou_max = iou\n",
        "                        matched_label = true_labels[k]\n",
        "\n",
        "                # If IoU is above the threshold, consider it a correct prediction\n",
        "                if iou_max >= iou_threshold:\n",
        "                    all_preds.append(pred_labels[j])  # Append predicted label\n",
        "                    all_labels.append(matched_label)  # Append true label\n",
        "\n",
        "    # Convert to numpy arrays for confusion matrix\n",
        "    all_preds = np.array(all_preds)\n",
        "    all_labels = np.array(all_labels)\n",
        "\n",
        "    # Calculate confusion matrix\n",
        "    cm = confusion_matrix(all_labels, all_preds, labels=np.arange(1, num_classes + 1))\n",
        "\n",
        "    # Plot the confusion matrix\n",
        "    plot_confusion_matrix_heatmap(cm, num_classes)\n",
        "\n",
        "\n",
        "# Function to plot confusion matrix as a heatmap\n",
        "def plot_confusion_matrix_heatmap(cm, num_classes):\n",
        "    plt.figure(figsize=(8, 6))\n",
        "    sns.heatmap(cm, annot=True, fmt=\"d\", cmap=\"Blues\", cbar=False,\n",
        "                xticklabels=[f\"Class {i}\" for i in range(1, num_classes + 1)], # Changed to 1 to num_classes\n",
        "                yticklabels=[f\"Class {i}\" for i in range(1, num_classes + 1)]) # Changed to 1 to num_classes\n",
        "    plt.xlabel('Predicted Label')\n",
        "    plt.ylabel('True Label')\n",
        "    plt.title('Confusion Matrix')\n",
        "    plt.show()\n",
        "# DataLoader\n",
        "train_loader = DataLoader(train_dataset, batch_size=4, shuffle=True, collate_fn=lambda x: tuple(zip(*x)))\n",
        "val_loader = DataLoader(val_dataset, batch_size=4, shuffle=False, collate_fn=lambda x: tuple(zip(*x)))\n",
        "test_loader = DataLoader(test_dataset, batch_size=4, shuffle=False, collate_fn=lambda x: tuple(zip(*x))) # Define test_loader\n",
        "\n",
        "\n",
        "plot_confusion_matrix(model, test_loader, device, num_classes=3, iou_threshold=0.3)  # Lowered iou_threshold to 0.3"
      ],
      "metadata": {
        "colab": {
          "base_uri": "https://localhost:8080/",
          "height": 553
        },
        "id": "gKDT_mNPyUEF",
        "outputId": "b445b56c-2348-4de6-af2c-54ffc8444143"
      },
      "execution_count": 32,
      "outputs": [
        {
          "output_type": "display_data",
          "data": {
            "text/plain": [
              "<Figure size 800x600 with 1 Axes>"
            ],
            "image/png": "[encoded data removed]"
          },
          "metadata": {}
        }
      ]
    },
    {
      "cell_type": "markdown",
      "source": [
        "# **Increased Epoch (20 Epochs)**"
      ],
      "metadata": {
        "id": "uxvWMtTPReM6"
      }
    },
    {
      "cell_type": "code",
      "execution_count": 33,
      "metadata": {
        "colab": {
          "base_uri": "https://localhost:8080/"
        },
        "outputId": "549c20ee-0577-4742-e694-bf29503e76d1",
        "id": "j_A25qt90kOQ"
      },
      "outputs": [
        {
          "output_type": "stream",
          "name": "stdout",
          "text": [
            "Requirement already satisfied: torch in /usr/local/lib/python3.11/dist-packages (2.5.1+cu121)\n",
            "Requirement already satisfied: torchvision in /usr/local/lib/python3.11/dist-packages (0.20.1+cu121)\n",
            "Requirement already satisfied: matplotlib in /usr/local/lib/python3.11/dist-packages (3.10.0)\n",
            "Requirement already satisfied: tqdm in /usr/local/lib/python3.11/dist-packages (4.67.1)\n",
            "Requirement already satisfied: filelock in /usr/local/lib/python3.11/dist-packages (from torch) (3.17.0)\n",
            "Requirement already satisfied: typing-extensions>=4.8.0 in /usr/local/lib/python3.11/dist-packages (from torch) (4.12.2)\n",
            "Requirement already satisfied: networkx in /usr/local/lib/python3.11/dist-packages (from torch) (3.4.2)\n",
            "Requirement already satisfied: jinja2 in /usr/local/lib/python3.11/dist-packages (from torch) (3.1.5)\n",
            "Requirement already satisfied: fsspec in /usr/local/lib/python3.11/dist-packages (from torch) (2024.10.0)\n",
            "Requirement already satisfied: nvidia-cuda-nvrtc-cu12==12.1.105 in /usr/local/lib/python3.11/dist-packages (from torch) (12.1.105)\n",
            "Requirement already satisfied: nvidia-cuda-runtime-cu12==12.1.105 in /usr/local/lib/python3.11/dist-packages (from torch) (12.1.105)\n",
            "Requirement already satisfied: nvidia-cuda-cupti-cu12==12.1.105 in /usr/local/lib/python3.11/dist-packages (from torch) (12.1.105)\n",
            "Requirement already satisfied: nvidia-cudnn-cu12==9.1.0.70 in /usr/local/lib/python3.11/dist-packages (from torch) (9.1.0.70)\n",
            "Requirement already satisfied: nvidia-cublas-cu12==12.1.3.1 in /usr/local/lib/python3.11/dist-packages (from torch) (12.1.3.1)\n",
            "Requirement already satisfied: nvidia-cufft-cu12==11.0.2.54 in /usr/local/lib/python3.11/dist-packages (from torch) (11.0.2.54)\n",
            "Requirement already satisfied: nvidia-curand-cu12==10.3.2.106 in /usr/local/lib/python3.11/dist-packages (from torch) (10.3.2.106)\n",
            "Requirement already satisfied: nvidia-cusolver-cu12==11.4.5.107 in /usr/local/lib/python3.11/dist-packages (from torch) (11.4.5.107)\n",
            "Requirement already satisfied: nvidia-cusparse-cu12==12.1.0.106 in /usr/local/lib/python3.11/dist-packages (from torch) (12.1.0.106)\n",
            "Requirement already satisfied: nvidia-nccl-cu12==2.21.5 in /usr/local/lib/python3.11/dist-packages (from torch) (2.21.5)\n",
            "Requirement already satisfied: nvidia-nvtx-cu12==12.1.105 in /usr/local/lib/python3.11/dist-packages (from torch) (12.1.105)\n",
            "Requirement already satisfied: triton==3.1.0 in /usr/local/lib/python3.11/dist-packages (from torch) (3.1.0)\n",
            "Requirement already satisfied: sympy==1.13.1 in /usr/local/lib/python3.11/dist-packages (from torch) (1.13.1)\n",
            "Requirement already satisfied: nvidia-nvjitlink-cu12 in /usr/local/lib/python3.11/dist-packages (from nvidia-cusolver-cu12==11.4.5.107->torch) (12.6.85)\n",
            "Requirement already satisfied: mpmath<1.4,>=1.1.0 in /usr/local/lib/python3.11/dist-packages (from sympy==1.13.1->torch) (1.3.0)\n",
            "Requirement already satisfied: numpy in /usr/local/lib/python3.11/dist-packages (from torchvision) (1.26.4)\n",
            "Requirement already satisfied: pillow!=8.3.*,>=5.3.0 in /usr/local/lib/python3.11/dist-packages (from torchvision) (11.1.0)\n",
            "Requirement already satisfied: contourpy>=1.0.1 in /usr/local/lib/python3.11/dist-packages (from matplotlib) (1.3.1)\n",
            "Requirement already satisfied: cycler>=0.10 in /usr/local/lib/python3.11/dist-packages (from matplotlib) (0.12.1)\n",
            "Requirement already satisfied: fonttools>=4.22.0 in /usr/local/lib/python3.11/dist-packages (from matplotlib) (4.55.4)\n",
            "Requirement already satisfied: kiwisolver>=1.3.1 in /usr/local/lib/python3.11/dist-packages (from matplotlib) (1.4.8)\n",
            "Requirement already satisfied: packaging>=20.0 in /usr/local/lib/python3.11/dist-packages (from matplotlib) (24.2)\n",
            "Requirement already satisfied: pyparsing>=2.3.1 in /usr/local/lib/python3.11/dist-packages (from matplotlib) (3.2.1)\n",
            "Requirement already satisfied: python-dateutil>=2.7 in /usr/local/lib/python3.11/dist-packages (from matplotlib) (2.8.2)\n",
            "Requirement already satisfied: six>=1.5 in /usr/local/lib/python3.11/dist-packages (from python-dateutil>=2.7->matplotlib) (1.17.0)\n",
            "Requirement already satisfied: MarkupSafe>=2.0 in /usr/local/lib/python3.11/dist-packages (from jinja2->torch) (3.0.2)\n",
            "Requirement already satisfied: fiftyone in /usr/local/lib/python3.11/dist-packages (1.3.0)\n",
            "Requirement already satisfied: aiofiles in /usr/local/lib/python3.11/dist-packages (from fiftyone) (24.1.0)\n",
            "Requirement already satisfied: argcomplete in /usr/local/lib/python3.11/dist-packages (from fiftyone) (3.5.3)\n",
            "Requirement already satisfied: beautifulsoup4 in /usr/local/lib/python3.11/dist-packages (from fiftyone) (4.12.3)\n",
            "Requirement already satisfied: boto3 in /usr/local/lib/python3.11/dist-packages (from fiftyone) (1.36.6)\n",
            "Requirement already satisfied: cachetools in /usr/local/lib/python3.11/dist-packages (from fiftyone) (5.5.1)\n",
            "Requirement already satisfied: dacite<1.8.0,>=1.6.0 in /usr/local/lib/python3.11/dist-packages (from fiftyone) (1.7.0)\n",
            "Requirement already satisfied: Deprecated in /usr/local/lib/python3.11/dist-packages (from fiftyone) (1.2.15)\n",
            "Requirement already satisfied: ftfy in /usr/local/lib/python3.11/dist-packages (from fiftyone) (6.3.1)\n",
            "Requirement already satisfied: humanize in /usr/local/lib/python3.11/dist-packages (from fiftyone) (4.11.0)\n",
            "Requirement already satisfied: hypercorn>=0.13.2 in /usr/local/lib/python3.11/dist-packages (from fiftyone) (0.17.3)\n",
            "Requirement already satisfied: Jinja2>=3 in /usr/local/lib/python3.11/dist-packages (from fiftyone) (3.1.5)\n",
            "Requirement already satisfied: kaleido!=0.2.1.post1 in /usr/local/lib/python3.11/dist-packages (from fiftyone) (0.2.1)\n",
            "Requirement already satisfied: matplotlib in /usr/local/lib/python3.11/dist-packages (from fiftyone) (3.10.0)\n",
            "Requirement already satisfied: mongoengine~=0.29.1 in /usr/local/lib/python3.11/dist-packages (from fiftyone) (0.29.1)\n",
            "Requirement already satisfied: motor~=3.6.0 in /usr/local/lib/python3.11/dist-packages (from fiftyone) (3.6.1)\n",
            "Requirement already satisfied: numpy in /usr/local/lib/python3.11/dist-packages (from fiftyone) (1.26.4)\n",
            "Requirement already satisfied: packaging in /usr/local/lib/python3.11/dist-packages (from fiftyone) (24.2)\n",
            "Requirement already satisfied: pandas in /usr/local/lib/python3.11/dist-packages (from fiftyone) (2.2.2)\n",
            "Requirement already satisfied: Pillow>=6.2 in /usr/local/lib/python3.11/dist-packages (from fiftyone) (11.1.0)\n",
            "Requirement already satisfied: plotly>=4.14 in /usr/local/lib/python3.11/dist-packages (from fiftyone) (5.24.1)\n",
            "Requirement already satisfied: pprintpp in /usr/local/lib/python3.11/dist-packages (from fiftyone) (0.4.0)\n",
            "Requirement already satisfied: psutil in /usr/local/lib/python3.11/dist-packages (from fiftyone) (5.9.5)\n",
            "Requirement already satisfied: pymongo~=4.9.2 in /usr/local/lib/python3.11/dist-packages (from fiftyone) (4.9.2)\n",
            "Requirement already satisfied: pytz in /usr/local/lib/python3.11/dist-packages (from fiftyone) (2024.2)\n",
            "Requirement already satisfied: PyYAML in /usr/local/lib/python3.11/dist-packages (from fiftyone) (6.0.2)\n",
            "Requirement already satisfied: regex in /usr/local/lib/python3.11/dist-packages (from fiftyone) (2024.11.6)\n",
            "Requirement already satisfied: retrying in /usr/local/lib/python3.11/dist-packages (from fiftyone) (1.3.4)\n",
            "Requirement already satisfied: rtree in /usr/local/lib/python3.11/dist-packages (from fiftyone) (1.3.0)\n",
            "Requirement already satisfied: scikit-learn in /usr/local/lib/python3.11/dist-packages (from fiftyone) (1.6.1)\n",
            "Requirement already satisfied: scikit-image in /usr/local/lib/python3.11/dist-packages (from fiftyone) (0.25.0)\n",
            "Requirement already satisfied: scipy in /usr/local/lib/python3.11/dist-packages (from fiftyone) (1.13.1)\n",
            "Requirement already satisfied: setuptools in /usr/local/lib/python3.11/dist-packages (from fiftyone) (75.1.0)\n",
            "Requirement already satisfied: sseclient-py<2,>=1.7.2 in /usr/local/lib/python3.11/dist-packages (from fiftyone) (1.8.0)\n",
            "Requirement already satisfied: sse-starlette<1,>=0.10.3 in /usr/local/lib/python3.11/dist-packages (from fiftyone) (0.10.3)\n",
            "Requirement already satisfied: starlette>=0.24.0 in /usr/local/lib/python3.11/dist-packages (from fiftyone) (0.45.3)\n",
            "Requirement already satisfied: strawberry-graphql in /usr/local/lib/python3.11/dist-packages (from fiftyone) (0.258.0)\n",
            "Requirement already satisfied: tabulate in /usr/local/lib/python3.11/dist-packages (from fiftyone) (0.9.0)\n",
            "Requirement already satisfied: xmltodict in /usr/local/lib/python3.11/dist-packages (from fiftyone) (0.14.2)\n",
            "Requirement already satisfied: universal-analytics-python3<2,>=1.0.1 in /usr/local/lib/python3.11/dist-packages (from fiftyone) (1.1.1)\n",
            "Requirement already satisfied: pydash in /usr/local/lib/python3.11/dist-packages (from fiftyone) (8.0.5)\n",
            "Requirement already satisfied: fiftyone-brain<0.20,>=0.19.0 in /usr/local/lib/python3.11/dist-packages (from fiftyone) (0.19.0)\n",
            "Requirement already satisfied: fiftyone-db<2.0,>=0.4 in /usr/local/lib/python3.11/dist-packages (from fiftyone) (1.1.7)\n",
            "Requirement already satisfied: voxel51-eta<0.15,>=0.14.0 in /usr/local/lib/python3.11/dist-packages (from fiftyone) (0.14.0)\n",
            "Requirement already satisfied: opencv-python-headless in /usr/local/lib/python3.11/dist-packages (from fiftyone) (4.11.0.86)\n",
            "Requirement already satisfied: h11 in /usr/local/lib/python3.11/dist-packages (from hypercorn>=0.13.2->fiftyone) (0.14.0)\n",
            "Requirement already satisfied: h2>=3.1.0 in /usr/local/lib/python3.11/dist-packages (from hypercorn>=0.13.2->fiftyone) (4.1.0)\n",
            "Requirement already satisfied: priority in /usr/local/lib/python3.11/dist-packages (from hypercorn>=0.13.2->fiftyone) (2.0.0)\n",
            "Requirement already satisfied: wsproto>=0.14.0 in /usr/local/lib/python3.11/dist-packages (from hypercorn>=0.13.2->fiftyone) (1.2.0)\n",
            "Requirement already satisfied: MarkupSafe>=2.0 in /usr/local/lib/python3.11/dist-packages (from Jinja2>=3->fiftyone) (3.0.2)\n",
            "Requirement already satisfied: tenacity>=6.2.0 in /usr/local/lib/python3.11/dist-packages (from plotly>=4.14->fiftyone) (9.0.0)\n",
            "Requirement already satisfied: dnspython<3.0.0,>=1.16.0 in /usr/local/lib/python3.11/dist-packages (from pymongo~=4.9.2->fiftyone) (2.7.0)\n",
            "Requirement already satisfied: anyio<5,>=3.6.2 in /usr/local/lib/python3.11/dist-packages (from starlette>=0.24.0->fiftyone) (3.7.1)\n",
            "Requirement already satisfied: httpx>=0.10.0 in /usr/local/lib/python3.11/dist-packages (from universal-analytics-python3<2,>=1.0.1->fiftyone) (0.28.1)\n",
            "Requirement already satisfied: dill in /usr/local/lib/python3.11/dist-packages (from voxel51-eta<0.15,>=0.14.0->fiftyone) (0.3.9)\n",
            "Requirement already satisfied: future in /usr/local/lib/python3.11/dist-packages (from voxel51-eta<0.15,>=0.14.0->fiftyone) (1.0.0)\n",
            "Requirement already satisfied: glob2 in /usr/local/lib/python3.11/dist-packages (from voxel51-eta<0.15,>=0.14.0->fiftyone) (0.7)\n",
            "Requirement already satisfied: jsonlines in /usr/local/lib/python3.11/dist-packages (from voxel51-eta<0.15,>=0.14.0->fiftyone) (4.0.0)\n",
            "Requirement already satisfied: py7zr in /usr/local/lib/python3.11/dist-packages (from voxel51-eta<0.15,>=0.14.0->fiftyone) (0.22.0)\n",
            "Requirement already satisfied: python-dateutil in /usr/local/lib/python3.11/dist-packages (from voxel51-eta<0.15,>=0.14.0->fiftyone) (2.8.2)\n",
            "Requirement already satisfied: rarfile in /usr/local/lib/python3.11/dist-packages (from voxel51-eta<0.15,>=0.14.0->fiftyone) (4.2)\n",
            "Requirement already satisfied: requests in /usr/local/lib/python3.11/dist-packages (from voxel51-eta<0.15,>=0.14.0->fiftyone) (2.32.3)\n",
            "Requirement already satisfied: six in /usr/local/lib/python3.11/dist-packages (from voxel51-eta<0.15,>=0.14.0->fiftyone) (1.17.0)\n",
            "Requirement already satisfied: sortedcontainers in /usr/local/lib/python3.11/dist-packages (from voxel51-eta<0.15,>=0.14.0->fiftyone) (2.4.0)\n",
            "Requirement already satisfied: tzlocal in /usr/local/lib/python3.11/dist-packages (from voxel51-eta<0.15,>=0.14.0->fiftyone) (5.2)\n",
            "Requirement already satisfied: urllib3 in /usr/local/lib/python3.11/dist-packages (from voxel51-eta<0.15,>=0.14.0->fiftyone) (2.3.0)\n",
            "Requirement already satisfied: soupsieve>1.2 in /usr/local/lib/python3.11/dist-packages (from beautifulsoup4->fiftyone) (2.6)\n",
            "Requirement already satisfied: botocore<1.37.0,>=1.36.6 in /usr/local/lib/python3.11/dist-packages (from boto3->fiftyone) (1.36.6)\n",
            "Requirement already satisfied: jmespath<2.0.0,>=0.7.1 in /usr/local/lib/python3.11/dist-packages (from boto3->fiftyone) (1.0.1)\n",
            "Requirement already satisfied: s3transfer<0.12.0,>=0.11.0 in /usr/local/lib/python3.11/dist-packages (from boto3->fiftyone) (0.11.2)\n",
            "Requirement already satisfied: wrapt<2,>=1.10 in /usr/local/lib/python3.11/dist-packages (from Deprecated->fiftyone) (1.17.2)\n",
            "Requirement already satisfied: wcwidth in /usr/local/lib/python3.11/dist-packages (from ftfy->fiftyone) (0.2.13)\n",
            "Requirement already satisfied: contourpy>=1.0.1 in /usr/local/lib/python3.11/dist-packages (from matplotlib->fiftyone) (1.3.1)\n",
            "Requirement already satisfied: cycler>=0.10 in /usr/local/lib/python3.11/dist-packages (from matplotlib->fiftyone) (0.12.1)\n",
            "Requirement already satisfied: fonttools>=4.22.0 in /usr/local/lib/python3.11/dist-packages (from matplotlib->fiftyone) (4.55.4)\n",
            "Requirement already satisfied: kiwisolver>=1.3.1 in /usr/local/lib/python3.11/dist-packages (from matplotlib->fiftyone) (1.4.8)\n",
            "Requirement already satisfied: pyparsing>=2.3.1 in /usr/local/lib/python3.11/dist-packages (from matplotlib->fiftyone) (3.2.1)\n",
            "Requirement already satisfied: tzdata>=2022.7 in /usr/local/lib/python3.11/dist-packages (from pandas->fiftyone) (2025.1)\n",
            "Requirement already satisfied: typing-extensions!=4.6.0,>3.10 in /usr/local/lib/python3.11/dist-packages (from pydash->fiftyone) (4.12.2)\n",
            "Requirement already satisfied: networkx>=3.0 in /usr/local/lib/python3.11/dist-packages (from scikit-image->fiftyone) (3.4.2)\n",
            "Requirement already satisfied: imageio!=2.35.0,>=2.33 in /usr/local/lib/python3.11/dist-packages (from scikit-image->fiftyone) (2.36.1)\n",
            "Requirement already satisfied: tifffile>=2022.8.12 in /usr/local/lib/python3.11/dist-packages (from scikit-image->fiftyone) (2025.1.10)\n",
            "Requirement already satisfied: lazy-loader>=0.4 in /usr/local/lib/python3.11/dist-packages (from scikit-image->fiftyone) (0.4)\n",
            "Requirement already satisfied: joblib>=1.2.0 in /usr/local/lib/python3.11/dist-packages (from scikit-learn->fiftyone) (1.4.2)\n",
            "Requirement already satisfied: threadpoolctl>=3.1.0 in /usr/local/lib/python3.11/dist-packages (from scikit-learn->fiftyone) (3.5.0)\n",
            "Requirement already satisfied: graphql-core<3.4.0,>=3.2.0 in /usr/local/lib/python3.11/dist-packages (from strawberry-graphql->fiftyone) (3.2.5)\n",
            "Requirement already satisfied: idna>=2.8 in /usr/local/lib/python3.11/dist-packages (from anyio<5,>=3.6.2->starlette>=0.24.0->fiftyone) (3.10)\n",
            "Requirement already satisfied: sniffio>=1.1 in /usr/local/lib/python3.11/dist-packages (from anyio<5,>=3.6.2->starlette>=0.24.0->fiftyone) (1.3.1)\n",
            "Requirement already satisfied: hyperframe<7,>=6.0 in /usr/local/lib/python3.11/dist-packages (from h2>=3.1.0->hypercorn>=0.13.2->fiftyone) (6.1.0)\n",
            "Requirement already satisfied: hpack<5,>=4.0 in /usr/local/lib/python3.11/dist-packages (from h2>=3.1.0->hypercorn>=0.13.2->fiftyone) (4.1.0)\n",
            "Requirement already satisfied: certifi in /usr/local/lib/python3.11/dist-packages (from httpx>=0.10.0->universal-analytics-python3<2,>=1.0.1->fiftyone) (2024.12.14)\n",
            "Requirement already satisfied: httpcore==1.* in /usr/local/lib/python3.11/dist-packages (from httpx>=0.10.0->universal-analytics-python3<2,>=1.0.1->fiftyone) (1.0.7)\n",
            "Requirement already satisfied: attrs>=19.2.0 in /usr/local/lib/python3.11/dist-packages (from jsonlines->voxel51-eta<0.15,>=0.14.0->fiftyone) (24.3.0)\n",
            "Requirement already satisfied: texttable in /usr/local/lib/python3.11/dist-packages (from py7zr->voxel51-eta<0.15,>=0.14.0->fiftyone) (1.7.0)\n",
            "Requirement already satisfied: pycryptodomex>=3.16.0 in /usr/local/lib/python3.11/dist-packages (from py7zr->voxel51-eta<0.15,>=0.14.0->fiftyone) (3.21.0)\n",
            "Requirement already satisfied: pyzstd>=0.15.9 in /usr/local/lib/python3.11/dist-packages (from py7zr->voxel51-eta<0.15,>=0.14.0->fiftyone) (0.16.2)\n",
            "Requirement already satisfied: pyppmd<1.2.0,>=1.1.0 in /usr/local/lib/python3.11/dist-packages (from py7zr->voxel51-eta<0.15,>=0.14.0->fiftyone) (1.1.1)\n",
            "Requirement already satisfied: pybcj<1.1.0,>=1.0.0 in /usr/local/lib/python3.11/dist-packages (from py7zr->voxel51-eta<0.15,>=0.14.0->fiftyone) (1.0.3)\n",
            "Requirement already satisfied: multivolumefile>=0.2.3 in /usr/local/lib/python3.11/dist-packages (from py7zr->voxel51-eta<0.15,>=0.14.0->fiftyone) (0.2.3)\n",
            "Requirement already satisfied: inflate64<1.1.0,>=1.0.0 in /usr/local/lib/python3.11/dist-packages (from py7zr->voxel51-eta<0.15,>=0.14.0->fiftyone) (1.0.1)\n",
            "Requirement already satisfied: brotli>=1.1.0 in /usr/local/lib/python3.11/dist-packages (from py7zr->voxel51-eta<0.15,>=0.14.0->fiftyone) (1.1.0)\n",
            "Requirement already satisfied: charset-normalizer<4,>=2 in /usr/local/lib/python3.11/dist-packages (from requests->voxel51-eta<0.15,>=0.14.0->fiftyone) (3.4.1)\n",
            "Drive already mounted at /content/drive; to attempt to forcibly remount, call drive.mount(\"/content/drive\", force_remount=True).\n"
          ]
        },
        {
          "output_type": "stream",
          "name": "stderr",
          "text": [
            "/usr/local/lib/python3.11/dist-packages/torchvision/models/_utils.py:208: UserWarning: The parameter 'pretrained' is deprecated since 0.13 and may be removed in the future, please use 'weights' instead.\n",
            "  warnings.warn(\n",
            "/usr/local/lib/python3.11/dist-packages/torchvision/models/_utils.py:223: UserWarning: Arguments other than a weight enum or `None` for 'weights' are deprecated since 0.13 and may be removed in the future. The current behavior is equivalent to passing `weights=FasterRCNN_ResNet50_FPN_Weights.COCO_V1`. You can also use `weights=FasterRCNN_ResNet50_FPN_Weights.DEFAULT` to get the most up-to-date weights.\n",
            "  warnings.warn(msg)\n"
          ]
        },
        {
          "output_type": "stream",
          "name": "stdout",
          "text": [
            "Epoch 1/20\n"
          ]
        },
        {
          "output_type": "stream",
          "name": "stderr",
          "text": [
            "100%|██████████| 16/16 [00:29<00:00,  1.84s/it]\n"
          ]
        },
        {
          "output_type": "stream",
          "name": "stdout",
          "text": [
            "Loss: 0.7658\n",
            "Epoch 2/20\n"
          ]
        },
        {
          "output_type": "stream",
          "name": "stderr",
          "text": [
            "100%|██████████| 16/16 [00:28<00:00,  1.77s/it]\n"
          ]
        },
        {
          "output_type": "stream",
          "name": "stdout",
          "text": [
            "Loss: 0.4796\n",
            "Epoch 3/20\n"
          ]
        },
        {
          "output_type": "stream",
          "name": "stderr",
          "text": [
            "100%|██████████| 16/16 [00:25<00:00,  1.61s/it]\n"
          ]
        },
        {
          "output_type": "stream",
          "name": "stdout",
          "text": [
            "Loss: 0.3739\n",
            "Epoch 4/20\n"
          ]
        },
        {
          "output_type": "stream",
          "name": "stderr",
          "text": [
            "100%|██████████| 16/16 [00:25<00:00,  1.62s/it]\n"
          ]
        },
        {
          "output_type": "stream",
          "name": "stdout",
          "text": [
            "Loss: 0.3047\n",
            "Epoch 5/20\n"
          ]
        },
        {
          "output_type": "stream",
          "name": "stderr",
          "text": [
            "100%|██████████| 16/16 [00:26<00:00,  1.63s/it]\n"
          ]
        },
        {
          "output_type": "stream",
          "name": "stdout",
          "text": [
            "Loss: 0.2900\n",
            "Epoch 6/20\n"
          ]
        },
        {
          "output_type": "stream",
          "name": "stderr",
          "text": [
            "100%|██████████| 16/16 [00:25<00:00,  1.61s/it]\n"
          ]
        },
        {
          "output_type": "stream",
          "name": "stdout",
          "text": [
            "Loss: 0.2792\n",
            "Epoch 7/20\n"
          ]
        },
        {
          "output_type": "stream",
          "name": "stderr",
          "text": [
            "100%|██████████| 16/16 [00:26<00:00,  1.64s/it]\n"
          ]
        },
        {
          "output_type": "stream",
          "name": "stdout",
          "text": [
            "Loss: 0.2751\n",
            "Epoch 8/20\n"
          ]
        },
        {
          "output_type": "stream",
          "name": "stderr",
          "text": [
            "100%|██████████| 16/16 [00:25<00:00,  1.61s/it]\n"
          ]
        },
        {
          "output_type": "stream",
          "name": "stdout",
          "text": [
            "Loss: 0.2729\n",
            "Epoch 9/20\n"
          ]
        },
        {
          "output_type": "stream",
          "name": "stderr",
          "text": [
            "100%|██████████| 16/16 [00:25<00:00,  1.61s/it]\n"
          ]
        },
        {
          "output_type": "stream",
          "name": "stdout",
          "text": [
            "Loss: 0.2695\n",
            "Epoch 10/20\n"
          ]
        },
        {
          "output_type": "stream",
          "name": "stderr",
          "text": [
            "100%|██████████| 16/16 [00:25<00:00,  1.60s/it]\n"
          ]
        },
        {
          "output_type": "stream",
          "name": "stdout",
          "text": [
            "Loss: 0.2697\n",
            "Epoch 11/20\n"
          ]
        },
        {
          "output_type": "stream",
          "name": "stderr",
          "text": [
            "100%|██████████| 16/16 [00:25<00:00,  1.62s/it]\n"
          ]
        },
        {
          "output_type": "stream",
          "name": "stdout",
          "text": [
            "Loss: 0.2702\n",
            "Epoch 12/20\n"
          ]
        },
        {
          "output_type": "stream",
          "name": "stderr",
          "text": [
            "100%|██████████| 16/16 [00:25<00:00,  1.60s/it]\n"
          ]
        },
        {
          "output_type": "stream",
          "name": "stdout",
          "text": [
            "Loss: 0.2732\n",
            "Epoch 13/20\n"
          ]
        },
        {
          "output_type": "stream",
          "name": "stderr",
          "text": [
            "100%|██████████| 16/16 [00:25<00:00,  1.61s/it]\n"
          ]
        },
        {
          "output_type": "stream",
          "name": "stdout",
          "text": [
            "Loss: 0.2697\n",
            "Epoch 14/20\n"
          ]
        },
        {
          "output_type": "stream",
          "name": "stderr",
          "text": [
            "100%|██████████| 16/16 [00:26<00:00,  1.63s/it]\n"
          ]
        },
        {
          "output_type": "stream",
          "name": "stdout",
          "text": [
            "Loss: 0.2723\n",
            "Epoch 15/20\n"
          ]
        },
        {
          "output_type": "stream",
          "name": "stderr",
          "text": [
            "100%|██████████| 16/16 [00:25<00:00,  1.60s/it]\n"
          ]
        },
        {
          "output_type": "stream",
          "name": "stdout",
          "text": [
            "Loss: 0.2697\n",
            "Epoch 16/20\n"
          ]
        },
        {
          "output_type": "stream",
          "name": "stderr",
          "text": [
            "100%|██████████| 16/16 [00:25<00:00,  1.61s/it]\n"
          ]
        },
        {
          "output_type": "stream",
          "name": "stdout",
          "text": [
            "Loss: 0.2691\n",
            "Epoch 17/20\n"
          ]
        },
        {
          "output_type": "stream",
          "name": "stderr",
          "text": [
            "100%|██████████| 16/16 [00:25<00:00,  1.60s/it]\n"
          ]
        },
        {
          "output_type": "stream",
          "name": "stdout",
          "text": [
            "Loss: 0.2700\n",
            "Epoch 18/20\n"
          ]
        },
        {
          "output_type": "stream",
          "name": "stderr",
          "text": [
            "100%|██████████| 16/16 [00:25<00:00,  1.60s/it]\n"
          ]
        },
        {
          "output_type": "stream",
          "name": "stdout",
          "text": [
            "Loss: 0.2701\n",
            "Epoch 19/20\n"
          ]
        },
        {
          "output_type": "stream",
          "name": "stderr",
          "text": [
            "100%|██████████| 16/16 [00:25<00:00,  1.60s/it]\n"
          ]
        },
        {
          "output_type": "stream",
          "name": "stdout",
          "text": [
            "Loss: 0.2714\n",
            "Epoch 20/20\n"
          ]
        },
        {
          "output_type": "stream",
          "name": "stderr",
          "text": [
            "100%|██████████| 16/16 [00:25<00:00,  1.61s/it]\n"
          ]
        },
        {
          "output_type": "stream",
          "name": "stdout",
          "text": [
            "Loss: 0.2692\n",
            "[{'boxes': tensor([[ 456.8250,  707.5164,  537.9984,  755.9998],\n",
            "        [ 313.2929,  830.7772,  406.4831,  899.0962],\n",
            "        [ 524.8721,  764.4923,  599.3802,  819.9547],\n",
            "        [ 225.8052,  772.0419,  314.2471,  825.8848],\n",
            "        [ 212.9541,  987.9908,  314.5915, 1068.0771],\n",
            "        [ 527.9176,  820.0848,  632.0709, 1142.4135],\n",
            "        [ 244.8056,  931.6807,  346.8423,  999.6190],\n",
            "        [ 629.2018,  897.5799,  748.3179, 1257.0643],\n",
            "        [ 320.5688,  896.3873,  487.1582, 1220.4283],\n",
            "        [ 652.9813,  835.7540,  722.5579,  896.9125],\n",
            "        [ 460.8894,  763.4408,  532.1874, 1090.2444],\n",
            "        [ 212.6907, 1055.1400,  402.6108, 1493.2554],\n",
            "        [ 272.0614,  872.8808,  498.1346, 1437.3866],\n",
            "        [ 216.3220,  797.2203,  318.1129,  974.3295],\n",
            "        [ 226.9845,  771.2078,  309.2414,  798.4289],\n",
            "        [ 882.9252,  992.8029,  967.1498, 1039.1191],\n",
            "        [ 404.8880,  378.4716,  465.6472,  417.1584],\n",
            "        [ 223.7072,  781.1682,  319.1607,  887.1700],\n",
            "        [ 211.2870,  769.6851,  326.9127,  973.5894],\n",
            "        [ 653.6459, 1246.5372,  740.1808, 1285.6035],\n",
            "        [ 456.8558,  247.9549,  515.5197,  295.7777],\n",
            "        [ 666.4071, 1235.9841,  750.6302, 1277.0447],\n",
            "        [ 235.6873,  915.8694,  336.8057, 1038.1548],\n",
            "        [ 657.4509, 1247.9456,  738.1369, 1284.4342],\n",
            "        [ 479.1923,  770.2870,  655.3553, 1265.1077],\n",
            "        [ 511.9913,  740.1633,  602.2094,  831.8043],\n",
            "        [ 663.2305, 1246.1672,  741.6075, 1285.7023],\n",
            "        [ 225.8976,  794.2582,  305.7948,  835.0821],\n",
            "        [ 454.6682,  712.5479,  534.5267,  800.3749],\n",
            "        [ 216.5640,  864.9633,  347.5005, 1087.3097],\n",
            "        [ 455.7997, 1185.1115,  521.8497, 1242.8223],\n",
            "        [ 176.1068, 1099.6904,  462.3192, 1389.4668],\n",
            "        [ 443.0042, 1194.1182,  522.9050, 1239.7758],\n",
            "        [ 138.7808,  928.8199,  479.6320, 1499.5353],\n",
            "        [ 103.7479, 1184.3046,  230.4156, 1350.0852],\n",
            "        [ 606.0574,  999.8322,  774.2209, 1292.6951],\n",
            "        [ 373.6834, 1372.8827,  468.8965, 1461.8269]], device='cuda:0'), 'labels': tensor([4, 4, 4, 4, 4, 5, 4, 5, 5, 4, 5, 5, 5, 5, 4, 4, 4, 4, 4, 3, 4, 3, 4, 4,\n",
            "        5, 4, 5, 4, 4, 4, 3, 5, 4, 5, 4, 5, 5], device='cuda:0'), 'scores': tensor([0.9931, 0.9927, 0.9845, 0.9825, 0.9751, 0.9538, 0.9396, 0.9279, 0.8948,\n",
            "        0.8626, 0.7849, 0.7711, 0.5509, 0.5339, 0.3843, 0.3110, 0.2015, 0.1664,\n",
            "        0.1507, 0.1385, 0.1345, 0.1128, 0.1068, 0.1036, 0.0874, 0.0837, 0.0718,\n",
            "        0.0681, 0.0680, 0.0636, 0.0619, 0.0586, 0.0574, 0.0561, 0.0560, 0.0538,\n",
            "        0.0522], device='cuda:0')}]\n",
            "[{'boxes': tensor([[2261.4685,  383.6192, 2345.6978,  572.7113],\n",
            "        [2269.2429,  347.1486, 2345.1785,  394.1392],\n",
            "        [2293.8076,  320.0987, 2332.8503,  341.5824],\n",
            "        [2260.9163,  333.7791, 2354.4277,  426.9762]], device='cuda:0'), 'labels': tensor([5, 4, 4, 4], device='cuda:0'), 'scores': tensor([0.8701, 0.4240, 0.3070, 0.0907], device='cuda:0')}]\n",
            "[{'boxes': tensor([[2191.8689,  921.6841, 2275.0881, 1002.5639],\n",
            "        [2403.7368,  598.8669, 2459.1238,  670.3466],\n",
            "        [2182.4209,  928.9300, 2266.9023, 1011.6772],\n",
            "        [2404.9890,  606.0525, 2457.6047,  671.2934]], device='cuda:0'), 'labels': tensor([4, 4, 5, 5], device='cuda:0'), 'scores': tensor([0.2825, 0.2473, 0.1399, 0.0538], device='cuda:0')}]\n",
            "[{'boxes': tensor([[1134.6082,  951.0431, 1208.1067, 1024.6101],\n",
            "        [1104.3953, 1023.8123, 1276.8152, 1406.0560],\n",
            "        [1152.5779, 1410.4771, 1207.4696, 1465.5243],\n",
            "        [1155.6519, 1408.0491, 1206.5693, 1464.3634],\n",
            "        [1201.6731, 1382.8586, 1248.2124, 1450.8414],\n",
            "        [1195.6910, 1390.6698, 1249.0870, 1456.3923],\n",
            "        [1240.7712, 1403.2900, 1295.6427, 1459.3634],\n",
            "        [1153.7948, 1411.2461, 1206.4723, 1462.4409],\n",
            "        [1180.4569, 1399.3702, 1246.7579, 1462.2201],\n",
            "        [1200.1721, 1386.0566, 1245.5563, 1451.1016],\n",
            "        [1243.8085, 1401.1656, 1294.7946, 1459.7283],\n",
            "        [1129.9093, 1427.1605, 1226.8972, 1463.8213],\n",
            "        [1240.5581, 1404.0831, 1293.8660, 1458.8906]], device='cuda:0'), 'labels': tensor([4, 5, 3, 5, 3, 5, 3, 4, 3, 4, 5, 3, 4], device='cuda:0'), 'scores': tensor([0.9922, 0.9579, 0.1774, 0.1307, 0.1301, 0.1185, 0.0964, 0.0939, 0.0842,\n",
            "        0.0812, 0.0795, 0.0584, 0.0534], device='cuda:0')}]\n",
            "[{'boxes': tensor([[ 351.3912, 1046.7208,  436.4160, 1108.7469],\n",
            "        [ 160.4014, 1059.7534,  245.3139, 1127.7891],\n",
            "        [ 335.7689, 1134.0317,  496.9974, 1443.7789],\n",
            "        [ 157.0635, 1128.4249,  304.9191, 1490.3835],\n",
            "        [ 385.0383, 1449.5258,  472.7540, 1488.5490],\n",
            "        [ 205.4572, 1468.4319,  304.6656, 1517.7914],\n",
            "        [ 399.8755, 1444.6667,  469.3946, 1484.3846],\n",
            "        [ 231.5168, 1452.3676,  296.5788, 1510.8301],\n",
            "        [ 401.5840, 1439.5928,  469.1589, 1477.6194],\n",
            "        [ 255.9732, 1463.5278,  302.3199, 1511.7429],\n",
            "        [ 213.5140, 1458.1364,  306.1349, 1519.4065],\n",
            "        [ 166.9107, 1452.6235,  320.5911, 1518.0967],\n",
            "        [ 253.4274, 1450.6769,  306.4819, 1509.9227],\n",
            "        [ 350.0822,  995.9628,  441.7113, 1113.6619],\n",
            "        [ 397.6649, 1446.7991,  466.8050, 1484.1010],\n",
            "        [ 189.3401, 1465.6241,  278.7244, 1507.6609],\n",
            "        [ 206.1711, 1469.0782,  302.6853, 1517.7631],\n",
            "        [ 448.9524, 1440.4139,  514.5854, 1490.7423],\n",
            "        [ 387.1199, 1455.2648,  473.8775, 1493.6447],\n",
            "        [ 251.3359, 1454.5688,  305.3419, 1509.9338],\n",
            "        [ 239.3556, 1476.5399,  311.2397, 1517.6853],\n",
            "        [ 253.7451, 1482.8765,  306.7604, 1519.5956],\n",
            "        [ 260.3056, 1449.2887,  300.5327, 1480.3411],\n",
            "        [ 245.2037, 1454.5776,  299.1573, 1492.2671],\n",
            "        [ 409.4379, 1457.4756,  460.9752, 1495.5945],\n",
            "        [ 162.0125, 1058.1582,  242.1661, 1096.5773],\n",
            "        [ 391.0078, 1416.9067,  459.7026, 1479.5292],\n",
            "        [ 261.6928, 1447.6047,  298.5252, 1481.9019],\n",
            "        [ 394.7073, 1415.3888,  461.9861, 1481.7236],\n",
            "        [ 196.5053, 1465.7028,  281.6999, 1509.7888],\n",
            "        [ 343.0369, 1438.5104,  517.8904, 1499.5370],\n",
            "        [ 451.4964, 1437.9138,  513.5991, 1491.5383]], device='cuda:0'), 'labels': tensor([4, 4, 5, 5, 3, 3, 5, 3, 3, 3, 5, 3, 5, 4, 4, 3, 4, 3, 5, 4, 5, 3, 3, 3,\n",
            "        3, 4, 3, 5, 5, 5, 3, 5], device='cuda:0'), 'scores': tensor([0.9966, 0.9940, 0.9684, 0.9671, 0.2061, 0.1862, 0.1630, 0.1581, 0.1551,\n",
            "        0.1242, 0.1138, 0.1128, 0.1057, 0.1044, 0.0988, 0.0929, 0.0852, 0.0834,\n",
            "        0.0779, 0.0718, 0.0716, 0.0706, 0.0675, 0.0674, 0.0667, 0.0658, 0.0657,\n",
            "        0.0613, 0.0583, 0.0565, 0.0551, 0.0511], device='cuda:0')}]\n"
          ]
        }
      ],
      "source": [
        "# Install necessary libraries\n",
        "!pip install torch torchvision matplotlib tqdm\n",
        "!pip install fiftyone  # For dataset visualization if needed\n",
        "\n",
        "import os\n",
        "import torch\n",
        "import torchvision\n",
        "import xml.etree.ElementTree as ET\n",
        "from torchvision.models.detection import FasterRCNN\n",
        "from torchvision.models.detection.faster_rcnn import FastRCNNPredictor\n",
        "from torchvision.transforms import functional as F\n",
        "from torch.utils.data import DataLoader, Dataset\n",
        "from torchvision.ops import box_convert\n",
        "import matplotlib.pyplot as plt\n",
        "from tqdm import tqdm\n",
        "\n",
        "from google.colab import drive\n",
        "\n",
        "drive.mount('/content/drive')\n",
        "\n",
        "# Define the path to the dataset\n",
        "data_dir = '/content/drive/MyDrive/dataset'\n",
        "train_images = os.path.join(data_dir, 'train/images')\n",
        "train_labels = os.path.join(data_dir, 'train/labels')\n",
        "test_images = os.path.join(data_dir, 'test/images')\n",
        "test_labels = os.path.join(data_dir, 'test/labels')\n",
        "val_images = os.path.join(data_dir, 'val/images')\n",
        "val_labels = os.path.join(data_dir, 'val/labels')\n",
        "\n",
        "# Define your classes\n",
        "class_labels = ['helmets', 'IFR suit', 'Boots','Helmets','IFR_Suit']\n",
        "\n",
        "# Helper function to parse XML annotations\n",
        "# Update parse_xml function to handle unannotated images\n",
        "def parse_xml(file):\n",
        "    if not os.path.exists(file):  # If the annotation file does not exist\n",
        "        return [], []  # Return empty boxes and labels\n",
        "\n",
        "    tree = ET.parse(file)\n",
        "    root = tree.getroot()\n",
        "    boxes = []\n",
        "    labels = []\n",
        "    for obj in root.findall('object'):\n",
        "        name = obj.find('name').text\n",
        "        bbox = obj.find('bndbox')\n",
        "        xmin = int(bbox.find('xmin').text)\n",
        "        ymin = int(bbox.find('ymin').text)\n",
        "        xmax = int(bbox.find('xmax').text)\n",
        "        ymax = int(bbox.find('ymax').text)\n",
        "        if xmax > xmin and ymax > ymin:  # Ensure bounding box dimensions are valid\n",
        "            boxes.append([xmin, ymin, xmax, ymax])\n",
        "            labels.append(class_labels.index(name) + 1)  # Classes start from 1\n",
        "    return boxes, labels\n",
        "\n",
        "# Modify the __getitem__ method in CustomDataset\n",
        "class CustomDataset(Dataset):\n",
        "    def __init__(self, images_dir, labels_dir, transforms=None):\n",
        "        self.images_dir = images_dir\n",
        "        self.labels_dir = labels_dir\n",
        "        self.transforms = transforms\n",
        "        self.image_files = sorted(os.listdir(images_dir))\n",
        "\n",
        "    def __len__(self):\n",
        "        return len(self.image_files)\n",
        "\n",
        "    def __getitem__(self, idx):\n",
        "        image_file = self.image_files[idx]\n",
        "        image_path = os.path.join(self.images_dir, image_file)\n",
        "        label_path = os.path.join(self.labels_dir, image_file.replace('.jpg', '.xml'))\n",
        "\n",
        "        # Load image\n",
        "        image = plt.imread(image_path)\n",
        "        image = F.to_tensor(image)\n",
        "\n",
        "        # Parse annotations\n",
        "        boxes, labels = parse_xml(label_path)\n",
        "        boxes = torch.as_tensor(boxes, dtype=torch.float32)\n",
        "        labels = torch.as_tensor(labels, dtype=torch.int64)\n",
        "\n",
        "        # Handle unannotated images\n",
        "        if len(boxes) == 0:\n",
        "            boxes = torch.zeros((0, 4), dtype=torch.float32)\n",
        "            labels = torch.zeros((0,), dtype=torch.int64)\n",
        "\n",
        "        # Create target dict\n",
        "        target = {\n",
        "            'boxes': boxes,\n",
        "            'labels': labels\n",
        "        }\n",
        "\n",
        "        if self.transforms:\n",
        "            image, target = self.transforms(image, target)\n",
        "\n",
        "        return image, target\n",
        "\n",
        "# No other changes are required for the training loop or model setup.\n",
        "\n",
        "# Create dataset objects\n",
        "train_dataset = CustomDataset(train_images, train_labels)\n",
        "test_dataset = CustomDataset(test_images, test_labels)\n",
        "val_dataset = CustomDataset(val_images, val_labels)\n",
        "\n",
        "# DataLoader\n",
        "train_loader = DataLoader(train_dataset, batch_size=4, shuffle=True, collate_fn=lambda x: tuple(zip(*x)))\n",
        "val_loader = DataLoader(val_dataset, batch_size=4, shuffle=False, collate_fn=lambda x: tuple(zip(*x)))\n",
        "\n",
        "# Load pre-trained Faster R-CNN model\n",
        "model = torchvision.models.detection.fasterrcnn_resnet50_fpn(pretrained=True)\n",
        "\n",
        "# Modify the model for custom dataset\n",
        "num_classes = len(class_labels) + 1  # Add 1 for background\n",
        "in_features = model.roi_heads.box_predictor.cls_score.in_features\n",
        "model.roi_heads.box_predictor = FastRCNNPredictor(in_features, num_classes)\n",
        "\n",
        "# Move model to GPU if available\n",
        "device = torch.device('cuda') if torch.cuda.is_available() else torch.device('gpu')\n",
        "model.to(device)\n",
        "\n",
        "# Define optimizer and learning rate scheduler\n",
        "optimizer = torch.optim.SGD(model.parameters(), lr=0.005, momentum=0.9, weight_decay=0.0005)\n",
        "lr_scheduler = torch.optim.lr_scheduler.StepLR(optimizer, step_size=3, gamma=0.1)\n",
        "\n",
        "# Training function\n",
        "def train_one_epoch(model, optimizer, data_loader, device, epoch):\n",
        "    model.train()\n",
        "    epoch_loss = 0\n",
        "    for images, targets in tqdm(data_loader):\n",
        "        images = list(image.to(device) for image in images)\n",
        "        targets = [{k: v.to(device) for k, v in t.items()} for t in targets]\n",
        "\n",
        "        loss_dict = model(images, targets)\n",
        "        losses = sum(loss for loss in loss_dict.values())\n",
        "        optimizer.zero_grad()\n",
        "        losses.backward()\n",
        "        optimizer.step()\n",
        "\n",
        "        epoch_loss += losses.item()\n",
        "    return epoch_loss / len(data_loader)\n",
        "\n",
        "# Training loop\n",
        "num_epochs = 20\n",
        "for epoch in range(num_epochs):\n",
        "    print(f\"Epoch {epoch+1}/{num_epochs}\")\n",
        "    epoch_loss = train_one_epoch(model, optimizer, train_loader, device, epoch)\n",
        "    print(f\"Loss: {epoch_loss:.4f}\")\n",
        "    lr_scheduler.step()\n",
        "\n",
        "# Save the trained model\n",
        "model_save_path = '/content/drive/My Drive/faster_rcnn_model.pth'\n",
        "torch.save(model.state_dict(), model_save_path)\n",
        "\n",
        "# Load model for inference\n",
        "model.eval()\n",
        "\n",
        "# Perform inference on test dataset\n",
        "for i in range(5):  # Test on 5 random images\n",
        "    image, _ = test_dataset[i]\n",
        "    with torch.no_grad():\n",
        "        prediction = model([image.to(device)])\n",
        "    # Visualize results\n",
        "    print(prediction)"
      ]
    },
    {
      "cell_type": "markdown",
      "source": [
        "# **Metrics**"
      ],
      "metadata": {
        "id": "yOM8R_ReRonA"
      }
    },
    {
      "cell_type": "code",
      "source": [
        "from sklearn.metrics import precision_recall_curve, auc, average_precision_score # Import average_precision_score\n",
        "import numpy as np\n",
        "import torchmetrics\n",
        "from tqdm import tqdm  # Import tqdm\n",
        "\n",
        "# Function to calculate the intersection over union (IoU)\n",
        "def compute_iou(pred_box, true_box):\n",
        "    # Pred and true boxes are [xmin, ymin, xmax, ymax]\n",
        "    x1, y1, x2, y2 = pred_box\n",
        "    x1_gt, y1_gt, x2_gt, y2_gt = true_box\n",
        "\n",
        "    # Intersection coordinates\n",
        "    xi1 = max(x1, x1_gt)\n",
        "    yi1 = max(y1, y1_gt)\n",
        "    xi2 = min(x2, x2_gt)\n",
        "    yi2 = min(y2, y2_gt)\n",
        "\n",
        "    # Intersection area\n",
        "    intersection_area = max(0, xi2 - xi1) * max(0, yi2 - yi1)\n",
        "\n",
        "    # Area of both boxes\n",
        "    pred_area = (x2 - x1) * (y2 - y1)\n",
        "    true_area = (x2_gt - x1_gt) * (y2_gt - y1_gt)\n",
        "\n",
        "    # Union area\n",
        "    union_area = pred_area + true_area - intersection_area\n",
        "\n",
        "    # IoU\n",
        "    iou = intersection_area / union_area\n",
        "    return iou\n",
        "\n",
        "# Function to calculate precision, recall, F1, and mAP\n",
        "def evaluate_model(model, data_loader, device, iou_threshold=0.5):\n",
        "    model.eval()\n",
        "    all_preds = []\n",
        "    all_labels = []\n",
        "\n",
        "    # Iterate through the dataset\n",
        "    for images, targets in tqdm(data_loader):  # Wrap data_loader with tqdm\n",
        "        images = list(image.to(device) for image in images)\n",
        "        targets = [{k: v.to(device) for k, v in t.items()} for t in targets]\n",
        "\n",
        "        with torch.no_grad():\n",
        "            predictions = model(images)\n",
        "\n",
        "        for i in range(len(predictions)):  # Iterate over images in the batch\n",
        "            pred_boxes = predictions[i]['boxes'].cpu().numpy()\n",
        "            pred_labels = predictions[i]['labels'].cpu().numpy()\n",
        "            true_boxes = targets[i]['boxes'].cpu().numpy()\n",
        "            true_labels = targets[i]['labels'].cpu().numpy()\n",
        "\n",
        "            # Match predicted boxes to ground truth boxes based on IoU\n",
        "            for j in range(len(pred_boxes)):\n",
        "                iou_max = 0  # Initialize iou_max for each prediction\n",
        "                matched_label = -1  # Initialize matched label as unmatched\n",
        "\n",
        "                for k in range(len(true_boxes)):\n",
        "                    iou = compute_iou(pred_boxes[j], true_boxes[k])\n",
        "                    if iou > iou_max:\n",
        "                        iou_max = iou\n",
        "                        matched_label = true_labels[k]\n",
        "\n",
        "                # If IoU is above the threshold, consider it a correct prediction\n",
        "                if iou_max >= iou_threshold:\n",
        "                    all_preds.append(pred_labels[j])  # Append predicted label\n",
        "                    all_labels.append(matched_label) # Append true label\n",
        "\n",
        "    # Convert to numpy arrays for sklearn metrics\n",
        "    all_preds = np.array(all_preds)\n",
        "    all_labels = np.array(all_labels)\n",
        "\n",
        "    # Calculate average precision for each class\n",
        "    average_precisions = []\n",
        "    unique_labels = np.unique(all_labels)  # Get all unique labels\n",
        "    for label in unique_labels:\n",
        "        if label != -1:  # Skip unmatched labels\n",
        "            # Consider predictions for the current label only\n",
        "            y_true = (all_labels == label).astype(int)\n",
        "            y_pred = (all_preds == label).astype(int)\n",
        "\n",
        "            # Calculate average precision for the current label\n",
        "            average_precision = average_precision_score(y_true, y_pred)\n",
        "            average_precisions.append(average_precision)\n",
        "\n",
        "    # Calculate mean average precision (mAP)\n",
        "    map_score = np.mean(average_precisions) if average_precisions else 0\n",
        "\n",
        "    # For precision, recall, F1 score, micro averaging\n",
        "    precision, recall, _ = precision_recall_curve(\n",
        "        (all_labels != -1).astype(int),  # True if matched to any object\n",
        "        all_preds,  # Predicted label\n",
        "        pos_label=1,  # Consider any matched label as positive\n",
        "    )\n",
        "    f1_score = 2 * (precision * recall) / (precision + recall + 1e-8)  # Avoid zero division\n",
        "\n",
        "    # Return the micro-average precision, recall, f1 score, and mAP\n",
        "    return np.mean(precision), np.mean(recall), np.mean(f1_score), map_score\n",
        "\n",
        "# Calculate and print evaluation metrics\n",
        "# ... your existing code ...\n",
        "\n",
        "# DataLoader\n",
        "train_loader = DataLoader(train_dataset, batch_size=4, shuffle=True, collate_fn=lambda x: tuple(zip(*x)))\n",
        "val_loader = DataLoader(val_dataset, batch_size=4, shuffle=False, collate_fn=lambda x: tuple(zip(*x)))\n",
        "test_loader = DataLoader(test_dataset, batch_size=4, shuffle=False, collate_fn=lambda x: tuple(zip(*x))) # Define test_loader\n",
        "\n",
        "# ... rest of your code ...\n",
        "precision, recall, f1_score, map_score = evaluate_model(model, test_loader, device)\n",
        "\n",
        "print(f\"Precision: {precision:.4f}\")\n",
        "print(f\"Recall: {recall:.4f}\")\n",
        "print(f\"F1 Score: {f1_score:.4f}\")\n",
        "print(f\"mAP: {map_score:.4f}\")\n",
        "\n",
        "\n",
        "\n"
      ],
      "metadata": {
        "colab": {
          "base_uri": "https://localhost:8080/"
        },
        "outputId": "2a7d2025-2e6d-44b0-da8c-0b265f03d524",
        "id": "l-y92ZOL7K3h"
      },
      "execution_count": 34,
      "outputs": [
        {
          "output_type": "stream",
          "name": "stderr",
          "text": [
            "100%|██████████| 4/4 [00:03<00:00,  1.17it/s]"
          ]
        },
        {
          "output_type": "stream",
          "name": "stdout",
          "text": [
            "Precision: 1.0000\n",
            "Recall: 0.5802\n",
            "F1 Score: 0.6363\n",
            "mAP: 0.6611\n"
          ]
        },
        {
          "output_type": "stream",
          "name": "stderr",
          "text": [
            "\n"
          ]
        }
      ]
    },
    {
      "cell_type": "markdown",
      "source": [
        "# **Training with 50 Epochs**"
      ],
      "metadata": {
        "id": "-6h7tRWIRrm3"
      }
    },
    {
      "cell_type": "code",
      "source": [
        "# Install necessary libraries\n",
        "!pip install torch torchvision matplotlib tqdm\n",
        "!pip install fiftyone  # For dataset visualization if needed\n",
        "\n",
        "import os\n",
        "import torch\n",
        "import torchvision\n",
        "import xml.etree.ElementTree as ET\n",
        "from torchvision.models.detection import FasterRCNN\n",
        "from torchvision.models.detection.faster_rcnn import FastRCNNPredictor\n",
        "from torchvision.transforms import functional as F\n",
        "from torch.utils.data import DataLoader, Dataset\n",
        "from torchvision.ops import box_convert\n",
        "import matplotlib.pyplot as plt\n",
        "from tqdm import tqdm\n",
        "\n",
        "from google.colab import drive\n",
        "\n",
        "drive.mount('/content/drive')\n",
        "\n",
        "# Define the path to the dataset\n",
        "data_dir = '/content/drive/MyDrive/dataset'\n",
        "train_images = os.path.join(data_dir, 'train/images')\n",
        "train_labels = os.path.join(data_dir, 'train/labels')\n",
        "test_images = os.path.join(data_dir, 'test/images')\n",
        "test_labels = os.path.join(data_dir, 'test/labels')\n",
        "val_images = os.path.join(data_dir, 'val/images')\n",
        "val_labels = os.path.join(data_dir, 'val/labels')\n",
        "\n",
        "# Define your classes\n",
        "class_labels = ['helmets', 'IFR suit', 'Boots','Helmets','IFR_Suit']\n",
        "\n",
        "# Helper function to parse XML annotations\n",
        "# Update parse_xml function to handle unannotated images\n",
        "def parse_xml(file):\n",
        "    if not os.path.exists(file):  # If the annotation file does not exist\n",
        "        return [], []  # Return empty boxes and labels\n",
        "\n",
        "    tree = ET.parse(file)\n",
        "    root = tree.getroot()\n",
        "    boxes = []\n",
        "    labels = []\n",
        "    for obj in root.findall('object'):\n",
        "        name = obj.find('name').text\n",
        "        bbox = obj.find('bndbox')\n",
        "        xmin = int(bbox.find('xmin').text)\n",
        "        ymin = int(bbox.find('ymin').text)\n",
        "        xmax = int(bbox.find('xmax').text)\n",
        "        ymax = int(bbox.find('ymax').text)\n",
        "        if xmax > xmin and ymax > ymin:  # Ensure bounding box dimensions are valid\n",
        "            boxes.append([xmin, ymin, xmax, ymax])\n",
        "            labels.append(class_labels.index(name) + 1)  # Classes start from 1\n",
        "    return boxes, labels\n",
        "\n",
        "# Modify the __getitem__ method in CustomDataset\n",
        "class CustomDataset(Dataset):\n",
        "    def __init__(self, images_dir, labels_dir, transforms=None):\n",
        "        self.images_dir = images_dir\n",
        "        self.labels_dir = labels_dir\n",
        "        self.transforms = transforms\n",
        "        self.image_files = sorted(os.listdir(images_dir))\n",
        "\n",
        "    def __len__(self):\n",
        "        return len(self.image_files)\n",
        "\n",
        "    def __getitem__(self, idx):\n",
        "        image_file = self.image_files[idx]\n",
        "        image_path = os.path.join(self.images_dir, image_file)\n",
        "        label_path = os.path.join(self.labels_dir, image_file.replace('.jpg', '.xml'))\n",
        "\n",
        "        # Load image\n",
        "        image = plt.imread(image_path)\n",
        "        image = F.to_tensor(image)\n",
        "\n",
        "        # Parse annotations\n",
        "        boxes, labels = parse_xml(label_path)\n",
        "        boxes = torch.as_tensor(boxes, dtype=torch.float32)\n",
        "        labels = torch.as_tensor(labels, dtype=torch.int64)\n",
        "\n",
        "        # Handle unannotated images\n",
        "        if len(boxes) == 0:\n",
        "            boxes = torch.zeros((0, 4), dtype=torch.float32)\n",
        "            labels = torch.zeros((0,), dtype=torch.int64)\n",
        "\n",
        "        # Create target dict\n",
        "        target = {\n",
        "            'boxes': boxes,\n",
        "            'labels': labels\n",
        "        }\n",
        "\n",
        "        if self.transforms:\n",
        "            image, target = self.transforms(image, target)\n",
        "\n",
        "        return image, target\n",
        "\n",
        "# No other changes are required for the training loop or model setup.\n",
        "\n",
        "# Create dataset objects\n",
        "train_dataset = CustomDataset(train_images, train_labels)\n",
        "test_dataset = CustomDataset(test_images, test_labels)\n",
        "val_dataset = CustomDataset(val_images, val_labels)\n",
        "\n",
        "# DataLoader\n",
        "train_loader = DataLoader(train_dataset, batch_size=4, shuffle=True, collate_fn=lambda x: tuple(zip(*x)))\n",
        "val_loader = DataLoader(val_dataset, batch_size=4, shuffle=False, collate_fn=lambda x: tuple(zip(*x)))\n",
        "\n",
        "# Load pre-trained Faster R-CNN model\n",
        "model = torchvision.models.detection.fasterrcnn_resnet50_fpn(pretrained=True)\n",
        "\n",
        "# Modify the model for custom dataset\n",
        "num_classes = len(class_labels) + 1  # Add 1 for background\n",
        "in_features = model.roi_heads.box_predictor.cls_score.in_features\n",
        "model.roi_heads.box_predictor = FastRCNNPredictor(in_features, num_classes)\n",
        "\n",
        "# Move model to GPU if available\n",
        "device = torch.device('cuda') if torch.cuda.is_available() else torch.device('gpu')\n",
        "model.to(device)\n",
        "\n",
        "# Define optimizer and learning rate scheduler\n",
        "optimizer = torch.optim.SGD(model.parameters(), lr=0.005, momentum=0.9, weight_decay=0.0005)\n",
        "lr_scheduler = torch.optim.lr_scheduler.StepLR(optimizer, step_size=3, gamma=0.1)\n",
        "\n",
        "# Training function\n",
        "def train_one_epoch(model, optimizer, data_loader, device, epoch):\n",
        "    model.train()\n",
        "    epoch_loss = 0\n",
        "    for images, targets in tqdm(data_loader):\n",
        "        images = list(image.to(device) for image in images)\n",
        "        targets = [{k: v.to(device) for k, v in t.items()} for t in targets]\n",
        "\n",
        "        loss_dict = model(images, targets)\n",
        "        losses = sum(loss for loss in loss_dict.values())\n",
        "        optimizer.zero_grad()\n",
        "        losses.backward()\n",
        "        optimizer.step()\n",
        "\n",
        "        epoch_loss += losses.item()\n",
        "    return epoch_loss / len(data_loader)\n",
        "\n",
        "# Training loop\n",
        "num_epochs = 50\n",
        "for epoch in range(num_epochs):\n",
        "    print(f\"Epoch {epoch+1}/{num_epochs}\")\n",
        "    epoch_loss = train_one_epoch(model, optimizer, train_loader, device, epoch)\n",
        "    print(f\"Loss: {epoch_loss:.4f}\")\n",
        "    lr_scheduler.step()\n",
        "\n",
        "# Save the trained model\n",
        "model_save_path = '/content/drive/My Drive/faster_rcnn_model.pth'\n",
        "torch.save(model.state_dict(), model_save_path)\n",
        "\n",
        "# Load model for inference\n",
        "model.eval()\n",
        "\n",
        "# Perform inference on test dataset\n",
        "for i in range(5):  # Test on 5 random images\n",
        "    image, _ = test_dataset[i]\n",
        "    with torch.no_grad():\n",
        "        prediction = model([image.to(device)])\n",
        "    # Visualize results\n",
        "    print(prediction)"
      ],
      "metadata": {
        "colab": {
          "base_uri": "https://localhost:8080/"
        },
        "id": "HtU9p8e--jTF",
        "outputId": "7dc8d013-f9d6-42f9-f325-e953aed16eb6"
      },
      "execution_count": 35,
      "outputs": [
        {
          "output_type": "stream",
          "name": "stdout",
          "text": [
            "Requirement already satisfied: torch in /usr/local/lib/python3.11/dist-packages (2.5.1+cu121)\n",
            "Requirement already satisfied: torchvision in /usr/local/lib/python3.11/dist-packages (0.20.1+cu121)\n",
            "Requirement already satisfied: matplotlib in /usr/local/lib/python3.11/dist-packages (3.10.0)\n",
            "Requirement already satisfied: tqdm in /usr/local/lib/python3.11/dist-packages (4.67.1)\n",
            "Requirement already satisfied: filelock in /usr/local/lib/python3.11/dist-packages (from torch) (3.17.0)\n",
            "Requirement already satisfied: typing-extensions>=4.8.0 in /usr/local/lib/python3.11/dist-packages (from torch) (4.12.2)\n",
            "Requirement already satisfied: networkx in /usr/local/lib/python3.11/dist-packages (from torch) (3.4.2)\n",
            "Requirement already satisfied: jinja2 in /usr/local/lib/python3.11/dist-packages (from torch) (3.1.5)\n",
            "Requirement already satisfied: fsspec in /usr/local/lib/python3.11/dist-packages (from torch) (2024.10.0)\n",
            "Requirement already satisfied: nvidia-cuda-nvrtc-cu12==12.1.105 in /usr/local/lib/python3.11/dist-packages (from torch) (12.1.105)\n",
            "Requirement already satisfied: nvidia-cuda-runtime-cu12==12.1.105 in /usr/local/lib/python3.11/dist-packages (from torch) (12.1.105)\n",
            "Requirement already satisfied: nvidia-cuda-cupti-cu12==12.1.105 in /usr/local/lib/python3.11/dist-packages (from torch) (12.1.105)\n",
            "Requirement already satisfied: nvidia-cudnn-cu12==9.1.0.70 in /usr/local/lib/python3.11/dist-packages (from torch) (9.1.0.70)\n",
            "Requirement already satisfied: nvidia-cublas-cu12==12.1.3.1 in /usr/local/lib/python3.11/dist-packages (from torch) (12.1.3.1)\n",
            "Requirement already satisfied: nvidia-cufft-cu12==11.0.2.54 in /usr/local/lib/python3.11/dist-packages (from torch) (11.0.2.54)\n",
            "Requirement already satisfied: nvidia-curand-cu12==10.3.2.106 in /usr/local/lib/python3.11/dist-packages (from torch) (10.3.2.106)\n",
            "Requirement already satisfied: nvidia-cusolver-cu12==11.4.5.107 in /usr/local/lib/python3.11/dist-packages (from torch) (11.4.5.107)\n",
            "Requirement already satisfied: nvidia-cusparse-cu12==12.1.0.106 in /usr/local/lib/python3.11/dist-packages (from torch) (12.1.0.106)\n",
            "Requirement already satisfied: nvidia-nccl-cu12==2.21.5 in /usr/local/lib/python3.11/dist-packages (from torch) (2.21.5)\n",
            "Requirement already satisfied: nvidia-nvtx-cu12==12.1.105 in /usr/local/lib/python3.11/dist-packages (from torch) (12.1.105)\n",
            "Requirement already satisfied: triton==3.1.0 in /usr/local/lib/python3.11/dist-packages (from torch) (3.1.0)\n",
            "Requirement already satisfied: sympy==1.13.1 in /usr/local/lib/python3.11/dist-packages (from torch) (1.13.1)\n",
            "Requirement already satisfied: nvidia-nvjitlink-cu12 in /usr/local/lib/python3.11/dist-packages (from nvidia-cusolver-cu12==11.4.5.107->torch) (12.6.85)\n",
            "Requirement already satisfied: mpmath<1.4,>=1.1.0 in /usr/local/lib/python3.11/dist-packages (from sympy==1.13.1->torch) (1.3.0)\n",
            "Requirement already satisfied: numpy in /usr/local/lib/python3.11/dist-packages (from torchvision) (1.26.4)\n",
            "Requirement already satisfied: pillow!=8.3.*,>=5.3.0 in /usr/local/lib/python3.11/dist-packages (from torchvision) (11.1.0)\n",
            "Requirement already satisfied: contourpy>=1.0.1 in /usr/local/lib/python3.11/dist-packages (from matplotlib) (1.3.1)\n",
            "Requirement already satisfied: cycler>=0.10 in /usr/local/lib/python3.11/dist-packages (from matplotlib) (0.12.1)\n",
            "Requirement already satisfied: fonttools>=4.22.0 in /usr/local/lib/python3.11/dist-packages (from matplotlib) (4.55.4)\n",
            "Requirement already satisfied: kiwisolver>=1.3.1 in /usr/local/lib/python3.11/dist-packages (from matplotlib) (1.4.8)\n",
            "Requirement already satisfied: packaging>=20.0 in /usr/local/lib/python3.11/dist-packages (from matplotlib) (24.2)\n",
            "Requirement already satisfied: pyparsing>=2.3.1 in /usr/local/lib/python3.11/dist-packages (from matplotlib) (3.2.1)\n",
            "Requirement already satisfied: python-dateutil>=2.7 in /usr/local/lib/python3.11/dist-packages (from matplotlib) (2.8.2)\n",
            "Requirement already satisfied: six>=1.5 in /usr/local/lib/python3.11/dist-packages (from python-dateutil>=2.7->matplotlib) (1.17.0)\n",
            "Requirement already satisfied: MarkupSafe>=2.0 in /usr/local/lib/python3.11/dist-packages (from jinja2->torch) (3.0.2)\n",
            "Requirement already satisfied: fiftyone in /usr/local/lib/python3.11/dist-packages (1.3.0)\n",
            "Requirement already satisfied: aiofiles in /usr/local/lib/python3.11/dist-packages (from fiftyone) (24.1.0)\n",
            "Requirement already satisfied: argcomplete in /usr/local/lib/python3.11/dist-packages (from fiftyone) (3.5.3)\n",
            "Requirement already satisfied: beautifulsoup4 in /usr/local/lib/python3.11/dist-packages (from fiftyone) (4.12.3)\n",
            "Requirement already satisfied: boto3 in /usr/local/lib/python3.11/dist-packages (from fiftyone) (1.36.6)\n",
            "Requirement already satisfied: cachetools in /usr/local/lib/python3.11/dist-packages (from fiftyone) (5.5.1)\n",
            "Requirement already satisfied: dacite<1.8.0,>=1.6.0 in /usr/local/lib/python3.11/dist-packages (from fiftyone) (1.7.0)\n",
            "Requirement already satisfied: Deprecated in /usr/local/lib/python3.11/dist-packages (from fiftyone) (1.2.15)\n",
            "Requirement already satisfied: ftfy in /usr/local/lib/python3.11/dist-packages (from fiftyone) (6.3.1)\n",
            "Requirement already satisfied: humanize in /usr/local/lib/python3.11/dist-packages (from fiftyone) (4.11.0)\n",
            "Requirement already satisfied: hypercorn>=0.13.2 in /usr/local/lib/python3.11/dist-packages (from fiftyone) (0.17.3)\n",
            "Requirement already satisfied: Jinja2>=3 in /usr/local/lib/python3.11/dist-packages (from fiftyone) (3.1.5)\n",
            "Requirement already satisfied: kaleido!=0.2.1.post1 in /usr/local/lib/python3.11/dist-packages (from fiftyone) (0.2.1)\n",
            "Requirement already satisfied: matplotlib in /usr/local/lib/python3.11/dist-packages (from fiftyone) (3.10.0)\n",
            "Requirement already satisfied: mongoengine~=0.29.1 in /usr/local/lib/python3.11/dist-packages (from fiftyone) (0.29.1)\n",
            "Requirement already satisfied: motor~=3.6.0 in /usr/local/lib/python3.11/dist-packages (from fiftyone) (3.6.1)\n",
            "Requirement already satisfied: numpy in /usr/local/lib/python3.11/dist-packages (from fiftyone) (1.26.4)\n",
            "Requirement already satisfied: packaging in /usr/local/lib/python3.11/dist-packages (from fiftyone) (24.2)\n",
            "Requirement already satisfied: pandas in /usr/local/lib/python3.11/dist-packages (from fiftyone) (2.2.2)\n",
            "Requirement already satisfied: Pillow>=6.2 in /usr/local/lib/python3.11/dist-packages (from fiftyone) (11.1.0)\n",
            "Requirement already satisfied: plotly>=4.14 in /usr/local/lib/python3.11/dist-packages (from fiftyone) (5.24.1)\n",
            "Requirement already satisfied: pprintpp in /usr/local/lib/python3.11/dist-packages (from fiftyone) (0.4.0)\n",
            "Requirement already satisfied: psutil in /usr/local/lib/python3.11/dist-packages (from fiftyone) (5.9.5)\n",
            "Requirement already satisfied: pymongo~=4.9.2 in /usr/local/lib/python3.11/dist-packages (from fiftyone) (4.9.2)\n",
            "Requirement already satisfied: pytz in /usr/local/lib/python3.11/dist-packages (from fiftyone) (2024.2)\n",
            "Requirement already satisfied: PyYAML in /usr/local/lib/python3.11/dist-packages (from fiftyone) (6.0.2)\n",
            "Requirement already satisfied: regex in /usr/local/lib/python3.11/dist-packages (from fiftyone) (2024.11.6)\n",
            "Requirement already satisfied: retrying in /usr/local/lib/python3.11/dist-packages (from fiftyone) (1.3.4)\n",
            "Requirement already satisfied: rtree in /usr/local/lib/python3.11/dist-packages (from fiftyone) (1.3.0)\n",
            "Requirement already satisfied: scikit-learn in /usr/local/lib/python3.11/dist-packages (from fiftyone) (1.6.1)\n",
            "Requirement already satisfied: scikit-image in /usr/local/lib/python3.11/dist-packages (from fiftyone) (0.25.0)\n",
            "Requirement already satisfied: scipy in /usr/local/lib/python3.11/dist-packages (from fiftyone) (1.13.1)\n",
            "Requirement already satisfied: setuptools in /usr/local/lib/python3.11/dist-packages (from fiftyone) (75.1.0)\n",
            "Requirement already satisfied: sseclient-py<2,>=1.7.2 in /usr/local/lib/python3.11/dist-packages (from fiftyone) (1.8.0)\n",
            "Requirement already satisfied: sse-starlette<1,>=0.10.3 in /usr/local/lib/python3.11/dist-packages (from fiftyone) (0.10.3)\n",
            "Requirement already satisfied: starlette>=0.24.0 in /usr/local/lib/python3.11/dist-packages (from fiftyone) (0.45.3)\n",
            "Requirement already satisfied: strawberry-graphql in /usr/local/lib/python3.11/dist-packages (from fiftyone) (0.258.0)\n",
            "Requirement already satisfied: tabulate in /usr/local/lib/python3.11/dist-packages (from fiftyone) (0.9.0)\n",
            "Requirement already satisfied: xmltodict in /usr/local/lib/python3.11/dist-packages (from fiftyone) (0.14.2)\n",
            "Requirement already satisfied: universal-analytics-python3<2,>=1.0.1 in /usr/local/lib/python3.11/dist-packages (from fiftyone) (1.1.1)\n",
            "Requirement already satisfied: pydash in /usr/local/lib/python3.11/dist-packages (from fiftyone) (8.0.5)\n",
            "Requirement already satisfied: fiftyone-brain<0.20,>=0.19.0 in /usr/local/lib/python3.11/dist-packages (from fiftyone) (0.19.0)\n",
            "Requirement already satisfied: fiftyone-db<2.0,>=0.4 in /usr/local/lib/python3.11/dist-packages (from fiftyone) (1.1.7)\n",
            "Requirement already satisfied: voxel51-eta<0.15,>=0.14.0 in /usr/local/lib/python3.11/dist-packages (from fiftyone) (0.14.0)\n",
            "Requirement already satisfied: opencv-python-headless in /usr/local/lib/python3.11/dist-packages (from fiftyone) (4.11.0.86)\n",
            "Requirement already satisfied: h11 in /usr/local/lib/python3.11/dist-packages (from hypercorn>=0.13.2->fiftyone) (0.14.0)\n",
            "Requirement already satisfied: h2>=3.1.0 in /usr/local/lib/python3.11/dist-packages (from hypercorn>=0.13.2->fiftyone) (4.1.0)\n",
            "Requirement already satisfied: priority in /usr/local/lib/python3.11/dist-packages (from hypercorn>=0.13.2->fiftyone) (2.0.0)\n",
            "Requirement already satisfied: wsproto>=0.14.0 in /usr/local/lib/python3.11/dist-packages (from hypercorn>=0.13.2->fiftyone) (1.2.0)\n",
            "Requirement already satisfied: MarkupSafe>=2.0 in /usr/local/lib/python3.11/dist-packages (from Jinja2>=3->fiftyone) (3.0.2)\n",
            "Requirement already satisfied: tenacity>=6.2.0 in /usr/local/lib/python3.11/dist-packages (from plotly>=4.14->fiftyone) (9.0.0)\n",
            "Requirement already satisfied: dnspython<3.0.0,>=1.16.0 in /usr/local/lib/python3.11/dist-packages (from pymongo~=4.9.2->fiftyone) (2.7.0)\n",
            "Requirement already satisfied: anyio<5,>=3.6.2 in /usr/local/lib/python3.11/dist-packages (from starlette>=0.24.0->fiftyone) (3.7.1)\n",
            "Requirement already satisfied: httpx>=0.10.0 in /usr/local/lib/python3.11/dist-packages (from universal-analytics-python3<2,>=1.0.1->fiftyone) (0.28.1)\n",
            "Requirement already satisfied: dill in /usr/local/lib/python3.11/dist-packages (from voxel51-eta<0.15,>=0.14.0->fiftyone) (0.3.9)\n",
            "Requirement already satisfied: future in /usr/local/lib/python3.11/dist-packages (from voxel51-eta<0.15,>=0.14.0->fiftyone) (1.0.0)\n",
            "Requirement already satisfied: glob2 in /usr/local/lib/python3.11/dist-packages (from voxel51-eta<0.15,>=0.14.0->fiftyone) (0.7)\n",
            "Requirement already satisfied: jsonlines in /usr/local/lib/python3.11/dist-packages (from voxel51-eta<0.15,>=0.14.0->fiftyone) (4.0.0)\n",
            "Requirement already satisfied: py7zr in /usr/local/lib/python3.11/dist-packages (from voxel51-eta<0.15,>=0.14.0->fiftyone) (0.22.0)\n",
            "Requirement already satisfied: python-dateutil in /usr/local/lib/python3.11/dist-packages (from voxel51-eta<0.15,>=0.14.0->fiftyone) (2.8.2)\n",
            "Requirement already satisfied: rarfile in /usr/local/lib/python3.11/dist-packages (from voxel51-eta<0.15,>=0.14.0->fiftyone) (4.2)\n",
            "Requirement already satisfied: requests in /usr/local/lib/python3.11/dist-packages (from voxel51-eta<0.15,>=0.14.0->fiftyone) (2.32.3)\n",
            "Requirement already satisfied: six in /usr/local/lib/python3.11/dist-packages (from voxel51-eta<0.15,>=0.14.0->fiftyone) (1.17.0)\n",
            "Requirement already satisfied: sortedcontainers in /usr/local/lib/python3.11/dist-packages (from voxel51-eta<0.15,>=0.14.0->fiftyone) (2.4.0)\n",
            "Requirement already satisfied: tzlocal in /usr/local/lib/python3.11/dist-packages (from voxel51-eta<0.15,>=0.14.0->fiftyone) (5.2)\n",
            "Requirement already satisfied: urllib3 in /usr/local/lib/python3.11/dist-packages (from voxel51-eta<0.15,>=0.14.0->fiftyone) (2.3.0)\n",
            "Requirement already satisfied: soupsieve>1.2 in /usr/local/lib/python3.11/dist-packages (from beautifulsoup4->fiftyone) (2.6)\n",
            "Requirement already satisfied: botocore<1.37.0,>=1.36.6 in /usr/local/lib/python3.11/dist-packages (from boto3->fiftyone) (1.36.6)\n",
            "Requirement already satisfied: jmespath<2.0.0,>=0.7.1 in /usr/local/lib/python3.11/dist-packages (from boto3->fiftyone) (1.0.1)\n",
            "Requirement already satisfied: s3transfer<0.12.0,>=0.11.0 in /usr/local/lib/python3.11/dist-packages (from boto3->fiftyone) (0.11.2)\n",
            "Requirement already satisfied: wrapt<2,>=1.10 in /usr/local/lib/python3.11/dist-packages (from Deprecated->fiftyone) (1.17.2)\n",
            "Requirement already satisfied: wcwidth in /usr/local/lib/python3.11/dist-packages (from ftfy->fiftyone) (0.2.13)\n",
            "Requirement already satisfied: contourpy>=1.0.1 in /usr/local/lib/python3.11/dist-packages (from matplotlib->fiftyone) (1.3.1)\n",
            "Requirement already satisfied: cycler>=0.10 in /usr/local/lib/python3.11/dist-packages (from matplotlib->fiftyone) (0.12.1)\n",
            "Requirement already satisfied: fonttools>=4.22.0 in /usr/local/lib/python3.11/dist-packages (from matplotlib->fiftyone) (4.55.4)\n",
            "Requirement already satisfied: kiwisolver>=1.3.1 in /usr/local/lib/python3.11/dist-packages (from matplotlib->fiftyone) (1.4.8)\n",
            "Requirement already satisfied: pyparsing>=2.3.1 in /usr/local/lib/python3.11/dist-packages (from matplotlib->fiftyone) (3.2.1)\n",
            "Requirement already satisfied: tzdata>=2022.7 in /usr/local/lib/python3.11/dist-packages (from pandas->fiftyone) (2025.1)\n",
            "Requirement already satisfied: typing-extensions!=4.6.0,>3.10 in /usr/local/lib/python3.11/dist-packages (from pydash->fiftyone) (4.12.2)\n",
            "Requirement already satisfied: networkx>=3.0 in /usr/local/lib/python3.11/dist-packages (from scikit-image->fiftyone) (3.4.2)\n",
            "Requirement already satisfied: imageio!=2.35.0,>=2.33 in /usr/local/lib/python3.11/dist-packages (from scikit-image->fiftyone) (2.36.1)\n",
            "Requirement already satisfied: tifffile>=2022.8.12 in /usr/local/lib/python3.11/dist-packages (from scikit-image->fiftyone) (2025.1.10)\n",
            "Requirement already satisfied: lazy-loader>=0.4 in /usr/local/lib/python3.11/dist-packages (from scikit-image->fiftyone) (0.4)\n",
            "Requirement already satisfied: joblib>=1.2.0 in /usr/local/lib/python3.11/dist-packages (from scikit-learn->fiftyone) (1.4.2)\n",
            "Requirement already satisfied: threadpoolctl>=3.1.0 in /usr/local/lib/python3.11/dist-packages (from scikit-learn->fiftyone) (3.5.0)\n",
            "Requirement already satisfied: graphql-core<3.4.0,>=3.2.0 in /usr/local/lib/python3.11/dist-packages (from strawberry-graphql->fiftyone) (3.2.5)\n",
            "Requirement already satisfied: idna>=2.8 in /usr/local/lib/python3.11/dist-packages (from anyio<5,>=3.6.2->starlette>=0.24.0->fiftyone) (3.10)\n",
            "Requirement already satisfied: sniffio>=1.1 in /usr/local/lib/python3.11/dist-packages (from anyio<5,>=3.6.2->starlette>=0.24.0->fiftyone) (1.3.1)\n",
            "Requirement already satisfied: hyperframe<7,>=6.0 in /usr/local/lib/python3.11/dist-packages (from h2>=3.1.0->hypercorn>=0.13.2->fiftyone) (6.1.0)\n",
            "Requirement already satisfied: hpack<5,>=4.0 in /usr/local/lib/python3.11/dist-packages (from h2>=3.1.0->hypercorn>=0.13.2->fiftyone) (4.1.0)\n",
            "Requirement already satisfied: certifi in /usr/local/lib/python3.11/dist-packages (from httpx>=0.10.0->universal-analytics-python3<2,>=1.0.1->fiftyone) (2024.12.14)\n",
            "Requirement already satisfied: httpcore==1.* in /usr/local/lib/python3.11/dist-packages (from httpx>=0.10.0->universal-analytics-python3<2,>=1.0.1->fiftyone) (1.0.7)\n",
            "Requirement already satisfied: attrs>=19.2.0 in /usr/local/lib/python3.11/dist-packages (from jsonlines->voxel51-eta<0.15,>=0.14.0->fiftyone) (24.3.0)\n",
            "Requirement already satisfied: texttable in /usr/local/lib/python3.11/dist-packages (from py7zr->voxel51-eta<0.15,>=0.14.0->fiftyone) (1.7.0)\n",
            "Requirement already satisfied: pycryptodomex>=3.16.0 in /usr/local/lib/python3.11/dist-packages (from py7zr->voxel51-eta<0.15,>=0.14.0->fiftyone) (3.21.0)\n",
            "Requirement already satisfied: pyzstd>=0.15.9 in /usr/local/lib/python3.11/dist-packages (from py7zr->voxel51-eta<0.15,>=0.14.0->fiftyone) (0.16.2)\n",
            "Requirement already satisfied: pyppmd<1.2.0,>=1.1.0 in /usr/local/lib/python3.11/dist-packages (from py7zr->voxel51-eta<0.15,>=0.14.0->fiftyone) (1.1.1)\n",
            "Requirement already satisfied: pybcj<1.1.0,>=1.0.0 in /usr/local/lib/python3.11/dist-packages (from py7zr->voxel51-eta<0.15,>=0.14.0->fiftyone) (1.0.3)\n",
            "Requirement already satisfied: multivolumefile>=0.2.3 in /usr/local/lib/python3.11/dist-packages (from py7zr->voxel51-eta<0.15,>=0.14.0->fiftyone) (0.2.3)\n",
            "Requirement already satisfied: inflate64<1.1.0,>=1.0.0 in /usr/local/lib/python3.11/dist-packages (from py7zr->voxel51-eta<0.15,>=0.14.0->fiftyone) (1.0.1)\n",
            "Requirement already satisfied: brotli>=1.1.0 in /usr/local/lib/python3.11/dist-packages (from py7zr->voxel51-eta<0.15,>=0.14.0->fiftyone) (1.1.0)\n",
            "Requirement already satisfied: charset-normalizer<4,>=2 in /usr/local/lib/python3.11/dist-packages (from requests->voxel51-eta<0.15,>=0.14.0->fiftyone) (3.4.1)\n",
            "Drive already mounted at /content/drive; to attempt to forcibly remount, call drive.mount(\"/content/drive\", force_remount=True).\n"
          ]
        },
        {
          "output_type": "stream",
          "name": "stderr",
          "text": [
            "/usr/local/lib/python3.11/dist-packages/torchvision/models/_utils.py:208: UserWarning: The parameter 'pretrained' is deprecated since 0.13 and may be removed in the future, please use 'weights' instead.\n",
            "  warnings.warn(\n",
            "/usr/local/lib/python3.11/dist-packages/torchvision/models/_utils.py:223: UserWarning: Arguments other than a weight enum or `None` for 'weights' are deprecated since 0.13 and may be removed in the future. The current behavior is equivalent to passing `weights=FasterRCNN_ResNet50_FPN_Weights.COCO_V1`. You can also use `weights=FasterRCNN_ResNet50_FPN_Weights.DEFAULT` to get the most up-to-date weights.\n",
            "  warnings.warn(msg)\n"
          ]
        },
        {
          "output_type": "stream",
          "name": "stdout",
          "text": [
            "Epoch 1/50\n"
          ]
        },
        {
          "output_type": "stream",
          "name": "stderr",
          "text": [
            "100%|██████████| 16/16 [00:27<00:00,  1.74s/it]\n"
          ]
        },
        {
          "output_type": "stream",
          "name": "stdout",
          "text": [
            "Loss: 0.7237\n",
            "Epoch 2/50\n"
          ]
        },
        {
          "output_type": "stream",
          "name": "stderr",
          "text": [
            "100%|██████████| 16/16 [00:27<00:00,  1.70s/it]\n"
          ]
        },
        {
          "output_type": "stream",
          "name": "stdout",
          "text": [
            "Loss: 0.4890\n",
            "Epoch 3/50\n"
          ]
        },
        {
          "output_type": "stream",
          "name": "stderr",
          "text": [
            "100%|██████████| 16/16 [00:26<00:00,  1.68s/it]\n"
          ]
        },
        {
          "output_type": "stream",
          "name": "stdout",
          "text": [
            "Loss: 0.3762\n",
            "Epoch 4/50\n"
          ]
        },
        {
          "output_type": "stream",
          "name": "stderr",
          "text": [
            "100%|██████████| 16/16 [00:27<00:00,  1.73s/it]\n"
          ]
        },
        {
          "output_type": "stream",
          "name": "stdout",
          "text": [
            "Loss: 0.3119\n",
            "Epoch 5/50\n"
          ]
        },
        {
          "output_type": "stream",
          "name": "stderr",
          "text": [
            "100%|██████████| 16/16 [00:28<00:00,  1.76s/it]\n"
          ]
        },
        {
          "output_type": "stream",
          "name": "stdout",
          "text": [
            "Loss: 0.2916\n",
            "Epoch 6/50\n"
          ]
        },
        {
          "output_type": "stream",
          "name": "stderr",
          "text": [
            "100%|██████████| 16/16 [00:26<00:00,  1.68s/it]\n"
          ]
        },
        {
          "output_type": "stream",
          "name": "stdout",
          "text": [
            "Loss: 0.2860\n",
            "Epoch 7/50\n"
          ]
        },
        {
          "output_type": "stream",
          "name": "stderr",
          "text": [
            "100%|██████████| 16/16 [00:27<00:00,  1.70s/it]\n"
          ]
        },
        {
          "output_type": "stream",
          "name": "stdout",
          "text": [
            "Loss: 0.2803\n",
            "Epoch 8/50\n"
          ]
        },
        {
          "output_type": "stream",
          "name": "stderr",
          "text": [
            "100%|██████████| 16/16 [00:27<00:00,  1.69s/it]\n"
          ]
        },
        {
          "output_type": "stream",
          "name": "stdout",
          "text": [
            "Loss: 0.2771\n",
            "Epoch 9/50\n"
          ]
        },
        {
          "output_type": "stream",
          "name": "stderr",
          "text": [
            "100%|██████████| 16/16 [00:27<00:00,  1.69s/it]\n"
          ]
        },
        {
          "output_type": "stream",
          "name": "stdout",
          "text": [
            "Loss: 0.2757\n",
            "Epoch 10/50\n"
          ]
        },
        {
          "output_type": "stream",
          "name": "stderr",
          "text": [
            "100%|██████████| 16/16 [00:27<00:00,  1.69s/it]\n"
          ]
        },
        {
          "output_type": "stream",
          "name": "stdout",
          "text": [
            "Loss: 0.2739\n",
            "Epoch 11/50\n"
          ]
        },
        {
          "output_type": "stream",
          "name": "stderr",
          "text": [
            "100%|██████████| 16/16 [00:27<00:00,  1.69s/it]\n"
          ]
        },
        {
          "output_type": "stream",
          "name": "stdout",
          "text": [
            "Loss: 0.2764\n",
            "Epoch 12/50\n"
          ]
        },
        {
          "output_type": "stream",
          "name": "stderr",
          "text": [
            "100%|██████████| 16/16 [00:27<00:00,  1.69s/it]\n"
          ]
        },
        {
          "output_type": "stream",
          "name": "stdout",
          "text": [
            "Loss: 0.2747\n",
            "Epoch 13/50\n"
          ]
        },
        {
          "output_type": "stream",
          "name": "stderr",
          "text": [
            "100%|██████████| 16/16 [00:27<00:00,  1.71s/it]\n"
          ]
        },
        {
          "output_type": "stream",
          "name": "stdout",
          "text": [
            "Loss: 0.2761\n",
            "Epoch 14/50\n"
          ]
        },
        {
          "output_type": "stream",
          "name": "stderr",
          "text": [
            "100%|██████████| 16/16 [00:27<00:00,  1.70s/it]\n"
          ]
        },
        {
          "output_type": "stream",
          "name": "stdout",
          "text": [
            "Loss: 0.2757\n",
            "Epoch 15/50\n"
          ]
        },
        {
          "output_type": "stream",
          "name": "stderr",
          "text": [
            "100%|██████████| 16/16 [00:27<00:00,  1.69s/it]\n"
          ]
        },
        {
          "output_type": "stream",
          "name": "stdout",
          "text": [
            "Loss: 0.2742\n",
            "Epoch 16/50\n"
          ]
        },
        {
          "output_type": "stream",
          "name": "stderr",
          "text": [
            "100%|██████████| 16/16 [00:27<00:00,  1.71s/it]\n"
          ]
        },
        {
          "output_type": "stream",
          "name": "stdout",
          "text": [
            "Loss: 0.2750\n",
            "Epoch 17/50\n"
          ]
        },
        {
          "output_type": "stream",
          "name": "stderr",
          "text": [
            "100%|██████████| 16/16 [00:27<00:00,  1.70s/it]\n"
          ]
        },
        {
          "output_type": "stream",
          "name": "stdout",
          "text": [
            "Loss: 0.2755\n",
            "Epoch 18/50\n"
          ]
        },
        {
          "output_type": "stream",
          "name": "stderr",
          "text": [
            "100%|██████████| 16/16 [00:27<00:00,  1.71s/it]\n"
          ]
        },
        {
          "output_type": "stream",
          "name": "stdout",
          "text": [
            "Loss: 0.2764\n",
            "Epoch 19/50\n"
          ]
        },
        {
          "output_type": "stream",
          "name": "stderr",
          "text": [
            "100%|██████████| 16/16 [00:27<00:00,  1.70s/it]\n"
          ]
        },
        {
          "output_type": "stream",
          "name": "stdout",
          "text": [
            "Loss: 0.2749\n",
            "Epoch 20/50\n"
          ]
        },
        {
          "output_type": "stream",
          "name": "stderr",
          "text": [
            "100%|██████████| 16/16 [00:27<00:00,  1.71s/it]\n"
          ]
        },
        {
          "output_type": "stream",
          "name": "stdout",
          "text": [
            "Loss: 0.2750\n",
            "Epoch 21/50\n"
          ]
        },
        {
          "output_type": "stream",
          "name": "stderr",
          "text": [
            "100%|██████████| 16/16 [00:27<00:00,  1.70s/it]\n"
          ]
        },
        {
          "output_type": "stream",
          "name": "stdout",
          "text": [
            "Loss: 0.2761\n",
            "Epoch 22/50\n"
          ]
        },
        {
          "output_type": "stream",
          "name": "stderr",
          "text": [
            "100%|██████████| 16/16 [00:27<00:00,  1.71s/it]\n"
          ]
        },
        {
          "output_type": "stream",
          "name": "stdout",
          "text": [
            "Loss: 0.2763\n",
            "Epoch 23/50\n"
          ]
        },
        {
          "output_type": "stream",
          "name": "stderr",
          "text": [
            "100%|██████████| 16/16 [00:27<00:00,  1.69s/it]\n"
          ]
        },
        {
          "output_type": "stream",
          "name": "stdout",
          "text": [
            "Loss: 0.2762\n",
            "Epoch 24/50\n"
          ]
        },
        {
          "output_type": "stream",
          "name": "stderr",
          "text": [
            "100%|██████████| 16/16 [00:27<00:00,  1.70s/it]\n"
          ]
        },
        {
          "output_type": "stream",
          "name": "stdout",
          "text": [
            "Loss: 0.2776\n",
            "Epoch 25/50\n"
          ]
        },
        {
          "output_type": "stream",
          "name": "stderr",
          "text": [
            "100%|██████████| 16/16 [00:27<00:00,  1.70s/it]\n"
          ]
        },
        {
          "output_type": "stream",
          "name": "stdout",
          "text": [
            "Loss: 0.2734\n",
            "Epoch 26/50\n"
          ]
        },
        {
          "output_type": "stream",
          "name": "stderr",
          "text": [
            "100%|██████████| 16/16 [00:27<00:00,  1.69s/it]\n"
          ]
        },
        {
          "output_type": "stream",
          "name": "stdout",
          "text": [
            "Loss: 0.2779\n",
            "Epoch 27/50\n"
          ]
        },
        {
          "output_type": "stream",
          "name": "stderr",
          "text": [
            "100%|██████████| 16/16 [00:27<00:00,  1.70s/it]\n"
          ]
        },
        {
          "output_type": "stream",
          "name": "stdout",
          "text": [
            "Loss: 0.2795\n",
            "Epoch 28/50\n"
          ]
        },
        {
          "output_type": "stream",
          "name": "stderr",
          "text": [
            "100%|██████████| 16/16 [00:27<00:00,  1.69s/it]\n"
          ]
        },
        {
          "output_type": "stream",
          "name": "stdout",
          "text": [
            "Loss: 0.2750\n",
            "Epoch 29/50\n"
          ]
        },
        {
          "output_type": "stream",
          "name": "stderr",
          "text": [
            "100%|██████████| 16/16 [00:27<00:00,  1.69s/it]\n"
          ]
        },
        {
          "output_type": "stream",
          "name": "stdout",
          "text": [
            "Loss: 0.2765\n",
            "Epoch 30/50\n"
          ]
        },
        {
          "output_type": "stream",
          "name": "stderr",
          "text": [
            "100%|██████████| 16/16 [00:27<00:00,  1.70s/it]\n"
          ]
        },
        {
          "output_type": "stream",
          "name": "stdout",
          "text": [
            "Loss: 0.2763\n",
            "Epoch 31/50\n"
          ]
        },
        {
          "output_type": "stream",
          "name": "stderr",
          "text": [
            "100%|██████████| 16/16 [00:27<00:00,  1.71s/it]\n"
          ]
        },
        {
          "output_type": "stream",
          "name": "stdout",
          "text": [
            "Loss: 0.2752\n",
            "Epoch 32/50\n"
          ]
        },
        {
          "output_type": "stream",
          "name": "stderr",
          "text": [
            "100%|██████████| 16/16 [00:27<00:00,  1.70s/it]\n"
          ]
        },
        {
          "output_type": "stream",
          "name": "stdout",
          "text": [
            "Loss: 0.2761\n",
            "Epoch 33/50\n"
          ]
        },
        {
          "output_type": "stream",
          "name": "stderr",
          "text": [
            "100%|██████████| 16/16 [00:27<00:00,  1.70s/it]\n"
          ]
        },
        {
          "output_type": "stream",
          "name": "stdout",
          "text": [
            "Loss: 0.2747\n",
            "Epoch 34/50\n"
          ]
        },
        {
          "output_type": "stream",
          "name": "stderr",
          "text": [
            "100%|██████████| 16/16 [00:27<00:00,  1.69s/it]\n"
          ]
        },
        {
          "output_type": "stream",
          "name": "stdout",
          "text": [
            "Loss: 0.2775\n",
            "Epoch 35/50\n"
          ]
        },
        {
          "output_type": "stream",
          "name": "stderr",
          "text": [
            "100%|██████████| 16/16 [00:26<00:00,  1.69s/it]\n"
          ]
        },
        {
          "output_type": "stream",
          "name": "stdout",
          "text": [
            "Loss: 0.2744\n",
            "Epoch 36/50\n"
          ]
        },
        {
          "output_type": "stream",
          "name": "stderr",
          "text": [
            "100%|██████████| 16/16 [00:27<00:00,  1.70s/it]\n"
          ]
        },
        {
          "output_type": "stream",
          "name": "stdout",
          "text": [
            "Loss: 0.2747\n",
            "Epoch 37/50\n"
          ]
        },
        {
          "output_type": "stream",
          "name": "stderr",
          "text": [
            "100%|██████████| 16/16 [00:27<00:00,  1.69s/it]\n"
          ]
        },
        {
          "output_type": "stream",
          "name": "stdout",
          "text": [
            "Loss: 0.2733\n",
            "Epoch 38/50\n"
          ]
        },
        {
          "output_type": "stream",
          "name": "stderr",
          "text": [
            "100%|██████████| 16/16 [00:27<00:00,  1.70s/it]\n"
          ]
        },
        {
          "output_type": "stream",
          "name": "stdout",
          "text": [
            "Loss: 0.2758\n",
            "Epoch 39/50\n"
          ]
        },
        {
          "output_type": "stream",
          "name": "stderr",
          "text": [
            "100%|██████████| 16/16 [00:27<00:00,  1.69s/it]\n"
          ]
        },
        {
          "output_type": "stream",
          "name": "stdout",
          "text": [
            "Loss: 0.2728\n",
            "Epoch 40/50\n"
          ]
        },
        {
          "output_type": "stream",
          "name": "stderr",
          "text": [
            "100%|██████████| 16/16 [00:27<00:00,  1.69s/it]\n"
          ]
        },
        {
          "output_type": "stream",
          "name": "stdout",
          "text": [
            "Loss: 0.2762\n",
            "Epoch 41/50\n"
          ]
        },
        {
          "output_type": "stream",
          "name": "stderr",
          "text": [
            "100%|██████████| 16/16 [00:27<00:00,  1.69s/it]\n"
          ]
        },
        {
          "output_type": "stream",
          "name": "stdout",
          "text": [
            "Loss: 0.2775\n",
            "Epoch 42/50\n"
          ]
        },
        {
          "output_type": "stream",
          "name": "stderr",
          "text": [
            "100%|██████████| 16/16 [00:27<00:00,  1.70s/it]\n"
          ]
        },
        {
          "output_type": "stream",
          "name": "stdout",
          "text": [
            "Loss: 0.2766\n",
            "Epoch 43/50\n"
          ]
        },
        {
          "output_type": "stream",
          "name": "stderr",
          "text": [
            "100%|██████████| 16/16 [00:27<00:00,  1.69s/it]\n"
          ]
        },
        {
          "output_type": "stream",
          "name": "stdout",
          "text": [
            "Loss: 0.2760\n",
            "Epoch 44/50\n"
          ]
        },
        {
          "output_type": "stream",
          "name": "stderr",
          "text": [
            "100%|██████████| 16/16 [00:27<00:00,  1.69s/it]\n"
          ]
        },
        {
          "output_type": "stream",
          "name": "stdout",
          "text": [
            "Loss: 0.2768\n",
            "Epoch 45/50\n"
          ]
        },
        {
          "output_type": "stream",
          "name": "stderr",
          "text": [
            "100%|██████████| 16/16 [00:26<00:00,  1.67s/it]\n"
          ]
        },
        {
          "output_type": "stream",
          "name": "stdout",
          "text": [
            "Loss: 0.2739\n",
            "Epoch 46/50\n"
          ]
        },
        {
          "output_type": "stream",
          "name": "stderr",
          "text": [
            "100%|██████████| 16/16 [00:26<00:00,  1.67s/it]\n"
          ]
        },
        {
          "output_type": "stream",
          "name": "stdout",
          "text": [
            "Loss: 0.2737\n",
            "Epoch 47/50\n"
          ]
        },
        {
          "output_type": "stream",
          "name": "stderr",
          "text": [
            "100%|██████████| 16/16 [00:27<00:00,  1.69s/it]\n"
          ]
        },
        {
          "output_type": "stream",
          "name": "stdout",
          "text": [
            "Loss: 0.2755\n",
            "Epoch 48/50\n"
          ]
        },
        {
          "output_type": "stream",
          "name": "stderr",
          "text": [
            "100%|██████████| 16/16 [00:27<00:00,  1.69s/it]\n"
          ]
        },
        {
          "output_type": "stream",
          "name": "stdout",
          "text": [
            "Loss: 0.2756\n",
            "Epoch 49/50\n"
          ]
        },
        {
          "output_type": "stream",
          "name": "stderr",
          "text": [
            "100%|██████████| 16/16 [00:27<00:00,  1.70s/it]\n"
          ]
        },
        {
          "output_type": "stream",
          "name": "stdout",
          "text": [
            "Loss: 0.2780\n",
            "Epoch 50/50\n"
          ]
        },
        {
          "output_type": "stream",
          "name": "stderr",
          "text": [
            "100%|██████████| 16/16 [00:27<00:00,  1.69s/it]\n"
          ]
        },
        {
          "output_type": "stream",
          "name": "stdout",
          "text": [
            "Loss: 0.2770\n",
            "[{'boxes': tensor([[ 459.4309,  708.5402,  537.8052,  758.9694],\n",
            "        [ 311.5272,  830.0594,  406.4566,  899.4493],\n",
            "        [ 214.3429,  990.0726,  311.0093, 1063.9978],\n",
            "        [ 532.4997,  817.7175,  632.3422, 1153.4302],\n",
            "        [ 527.2109,  764.7769,  599.0945,  821.7673],\n",
            "        [ 225.9302,  772.2890,  314.0179,  825.9070],\n",
            "        [ 634.1588,  904.1065,  751.5953, 1251.1119],\n",
            "        [ 247.3231,  933.5955,  342.4993,  999.4502],\n",
            "        [ 331.7963,  899.0984,  492.4032, 1207.9131],\n",
            "        [ 213.7975, 1057.3442,  394.7003, 1475.0400],\n",
            "        [ 465.5656,  286.1494,  591.6887,  535.8575],\n",
            "        [ 653.5364,  835.0804,  721.5818,  895.9712],\n",
            "        [ 461.1115,  248.6766,  514.7678,  298.3763],\n",
            "        [ 219.9727,  802.9461,  317.9461,  975.5432],\n",
            "        [ 280.5596,  901.4631,  496.6856, 1436.0967],\n",
            "        [ 467.6365,  788.2787,  529.2533, 1125.7837],\n",
            "        [ 482.1415,  805.1826,  648.0274, 1228.5471],\n",
            "        [ 327.6303,  961.6306,  438.8359, 1247.3430],\n",
            "        [ 229.0780,  770.5861,  309.2897,  796.9254],\n",
            "        [ 127.0739, 1126.8774,  469.1642, 1483.6178],\n",
            "        [ 657.4980, 1248.8917,  735.0434, 1284.4436],\n",
            "        [ 880.7454,  997.3412,  968.1569, 1040.8082],\n",
            "        [ 662.8503, 1249.9297,  740.2711, 1282.7301],\n",
            "        [  97.9929, 1195.1045,  229.3857, 1370.7509],\n",
            "        [ 604.9316, 1005.9493,  780.2911, 1267.7155],\n",
            "        [ 406.9815,  383.9264,  458.9336,  416.7824],\n",
            "        [ 265.3677,  938.1086,  546.0574, 1152.8776],\n",
            "        [ 502.2013,  773.3400,  619.1531,  829.7530],\n",
            "        [ 666.6625, 1240.5381,  748.8471, 1276.7383],\n",
            "        [ 409.3064,  820.4860,  520.9248, 1209.0525],\n",
            "        [ 456.6073, 1185.5350,  522.3761, 1243.6578],\n",
            "        [ 111.2270, 1183.5934,  224.8489, 1345.9784],\n",
            "        [ 433.2491, 1195.2432,  525.6569, 1241.5063],\n",
            "        [ 218.7122,  817.2956,  327.3576, 1038.8156],\n",
            "        [ 383.6293,  929.3683,  519.6404, 1314.6854],\n",
            "        [ 226.7320,  855.0994,  335.9353, 1024.3495],\n",
            "        [ 220.4628,  784.5361,  319.1115,  933.0228],\n",
            "        [ 221.0576,  951.0201,  331.4621, 1069.2090],\n",
            "        [ 226.5743,  924.2060,  326.6153, 1040.3687],\n",
            "        [ 696.5488, 1244.7249,  759.0153, 1277.7592],\n",
            "        [ 702.1150, 1243.1647,  750.0989, 1281.1064],\n",
            "        [ 400.3723, 1387.8527,  482.4110, 1461.8524],\n",
            "        [ 423.7460, 1161.4529,  531.9803, 1262.4734],\n",
            "        [ 527.8237,  917.2643,  756.1064, 1255.4611],\n",
            "        [ 305.7108,  816.5372,  595.7512, 1294.2937],\n",
            "        [ 244.4972,  937.0760,  321.2618, 1004.2517],\n",
            "        [ 661.8956, 1249.6414,  736.4778, 1282.7710],\n",
            "        [ 197.4146,  748.1823,  320.7069, 1032.8479],\n",
            "        [ 301.6515, 1472.7148,  366.4242, 1519.8008],\n",
            "        [ 462.4406, 1178.3838,  527.0928, 1237.8969],\n",
            "        [ 672.5569, 1239.4390,  747.8029, 1277.0706]], device='cuda:0'), 'labels': tensor([4, 4, 4, 5, 4, 4, 5, 4, 5, 5, 5, 4, 4, 5, 5, 5, 5, 5, 4, 5, 3, 4, 4, 5,\n",
            "        5, 4, 5, 4, 3, 5, 4, 4, 3, 4, 5, 5, 4, 5, 4, 3, 4, 4, 3, 5, 5, 5, 5, 5,\n",
            "        3, 3, 5], device='cuda:0'), 'scores': tensor([0.9834, 0.9781, 0.9778, 0.9712, 0.9688, 0.9646, 0.9240, 0.9159, 0.9068,\n",
            "        0.8785, 0.7942, 0.7155, 0.6477, 0.6020, 0.5491, 0.4531, 0.3075, 0.2618,\n",
            "        0.2198, 0.2188, 0.1973, 0.1885, 0.1840, 0.1734, 0.1513, 0.1474, 0.1437,\n",
            "        0.1428, 0.1311, 0.1289, 0.1271, 0.1258, 0.1064, 0.1053, 0.1050, 0.1030,\n",
            "        0.0861, 0.0851, 0.0827, 0.0805, 0.0742, 0.0704, 0.0683, 0.0654, 0.0639,\n",
            "        0.0636, 0.0617, 0.0605, 0.0533, 0.0522, 0.0503], device='cuda:0')}]\n",
            "[{'boxes': tensor([[2261.2761,  378.0445, 2346.3623,  578.4223],\n",
            "        [2292.9541,  319.3298, 2333.0474,  339.8796],\n",
            "        [2267.9692,  347.0918, 2346.3372,  394.3021]], device='cuda:0'), 'labels': tensor([5, 4, 4], device='cuda:0'), 'scores': tensor([0.8380, 0.4758, 0.3680], device='cuda:0')}]\n",
            "[{'boxes': tensor([[2404.5540,  603.0262, 2459.9824,  670.0379],\n",
            "        [2188.8545,  924.3673, 2274.5137, 1004.5679],\n",
            "        [1749.4778,  173.6804, 1828.6790,  304.5509],\n",
            "        [2181.5151,  931.0188, 2263.4988, 1013.2046],\n",
            "        [1744.9620,  157.6227, 1832.0077,  277.0407],\n",
            "        [2401.1455,  608.1957, 2455.9836,  672.4455]], device='cuda:0'), 'labels': tensor([4, 4, 5, 5, 4, 5], device='cuda:0'), 'scores': tensor([0.6115, 0.2673, 0.1636, 0.0956, 0.0772, 0.0502], device='cuda:0')}]\n",
            "[{'boxes': tensor([[1130.8138,  951.7158, 1207.8917, 1022.8082],\n",
            "        [1101.5706, 1022.7709, 1270.9496, 1399.4661],\n",
            "        [1135.7395,  951.8099, 1204.0818,  991.6846],\n",
            "        [1163.6906, 1408.0166, 1206.0029, 1461.7219],\n",
            "        [1163.7921, 1409.4058, 1206.6685, 1459.3043],\n",
            "        [1153.1895, 1392.3151, 1213.6863, 1454.8690],\n",
            "        [1151.2288, 1424.1511, 1217.6099, 1469.1210],\n",
            "        [1197.9248, 1391.6455, 1240.7194, 1460.0649],\n",
            "        [1155.3792, 1417.9585, 1211.1938, 1461.6130],\n",
            "        [1130.2549, 1409.2654, 1215.6008, 1478.3068],\n",
            "        [1154.0022, 1391.4437, 1214.0198, 1454.3068],\n",
            "        [1198.3018, 1390.5020, 1242.6311, 1457.3984],\n",
            "        [1240.0809, 1402.9155, 1293.4755, 1461.6807],\n",
            "        [1198.2524, 1393.4835, 1243.9883, 1455.1165]], device='cuda:0'), 'labels': tensor([4, 5, 4, 3, 4, 3, 3, 3, 5, 3, 5, 5, 3, 4], device='cuda:0'), 'scores': tensor([0.9871, 0.9137, 0.1978, 0.1740, 0.1334, 0.1272, 0.0981, 0.0869, 0.0791,\n",
            "        0.0586, 0.0586, 0.0551, 0.0544, 0.0535], device='cuda:0')}]\n",
            "[{'boxes': tensor([[ 352.2016, 1048.5942,  436.3345, 1109.7358],\n",
            "        [ 161.3893, 1062.5750,  246.2245, 1128.3010],\n",
            "        [ 337.2625, 1121.7698,  505.3972, 1455.7726],\n",
            "        [ 159.9481, 1114.3494,  305.4875, 1482.5869],\n",
            "        [ 385.3466, 1450.0244,  476.7070, 1492.2856],\n",
            "        [ 203.5165, 1468.6881,  312.0960, 1518.8204],\n",
            "        [ 402.6128, 1433.4296,  465.1537, 1486.0830],\n",
            "        [ 249.0578, 1452.5750,  308.7758, 1514.1127],\n",
            "        [ 403.0840, 1445.7703,  470.6591, 1484.4845],\n",
            "        [ 409.3946, 1451.3534,  459.4229, 1496.9991],\n",
            "        [ 208.9910, 1468.7632,  313.0367, 1518.9430],\n",
            "        [ 232.6505, 1476.7181,  294.4420, 1519.9663],\n",
            "        [ 388.7077, 1450.1995,  477.3978, 1490.2118],\n",
            "        [ 252.0188, 1454.9764,  310.4182, 1513.7236],\n",
            "        [ 210.2346, 1467.6150,  314.4188, 1518.9893],\n",
            "        [ 262.2555, 1471.2479,  313.1118, 1519.1464],\n",
            "        [ 405.2317, 1433.7825,  465.9504, 1484.9353],\n",
            "        [ 414.8784, 1446.0244,  483.6777, 1484.4604],\n",
            "        [ 369.1848, 1459.3965,  453.2723, 1490.7230],\n",
            "        [ 180.4433, 1270.1909,  309.1312, 1484.3201],\n",
            "        [ 361.7854, 1425.9265,  479.1887, 1516.0870],\n",
            "        [ 251.4191, 1451.3185,  309.4550, 1513.2556],\n",
            "        [ 233.0436, 1485.9264,  309.8295, 1518.3452],\n",
            "        [ 380.2704, 1439.0050,  533.2083, 1506.0363],\n",
            "        [ 243.9377, 1457.2728,  292.4781, 1501.1711],\n",
            "        [ 362.7701, 1463.8062,  489.8009, 1499.7365],\n",
            "        [ 184.8691, 1478.4385,  279.1716, 1519.0977]], device='cuda:0'), 'labels': tensor([4, 4, 5, 5, 3, 3, 3, 3, 4, 3, 4, 3, 5, 4, 5, 3, 5, 3, 3, 5, 3, 5, 5, 3,\n",
            "        3, 3, 3], device='cuda:0'), 'scores': tensor([0.9932, 0.9930, 0.9755, 0.9704, 0.2675, 0.2376, 0.2193, 0.1672, 0.1613,\n",
            "        0.1578, 0.1529, 0.1293, 0.1270, 0.1238, 0.1197, 0.1178, 0.0969, 0.0966,\n",
            "        0.0815, 0.0775, 0.0713, 0.0664, 0.0610, 0.0598, 0.0586, 0.0572, 0.0514],\n",
            "       device='cuda:0')}]\n"
          ]
        }
      ]
    },
    {
      "cell_type": "markdown",
      "source": [
        "# **Metrics**"
      ],
      "metadata": {
        "id": "cijeLpjnR9mo"
      }
    },
    {
      "cell_type": "code",
      "source": [
        "from sklearn.metrics import precision_recall_curve, auc, average_precision_score # Import average_precision_score\n",
        "import numpy as np\n",
        "import torchmetrics\n",
        "from tqdm import tqdm  # Import tqdm\n",
        "\n",
        "# Function to calculate the intersection over union (IoU)\n",
        "def compute_iou(pred_box, true_box):\n",
        "    # Pred and true boxes are [xmin, ymin, xmax, ymax]\n",
        "    x1, y1, x2, y2 = pred_box\n",
        "    x1_gt, y1_gt, x2_gt, y2_gt = true_box\n",
        "\n",
        "    # Intersection coordinates\n",
        "    xi1 = max(x1, x1_gt)\n",
        "    yi1 = max(y1, y1_gt)\n",
        "    xi2 = min(x2, x2_gt)\n",
        "    yi2 = min(y2, y2_gt)\n",
        "\n",
        "    # Intersection area\n",
        "    intersection_area = max(0, xi2 - xi1) * max(0, yi2 - yi1)\n",
        "\n",
        "    # Area of both boxes\n",
        "    pred_area = (x2 - x1) * (y2 - y1)\n",
        "    true_area = (x2_gt - x1_gt) * (y2_gt - y1_gt)\n",
        "\n",
        "    # Union area\n",
        "    union_area = pred_area + true_area - intersection_area\n",
        "\n",
        "    # IoU\n",
        "    iou = intersection_area / union_area\n",
        "    return iou\n",
        "\n",
        "# Function to calculate precision, recall, F1, and mAP\n",
        "def evaluate_model(model, data_loader, device, iou_threshold=0.5):\n",
        "    model.eval()\n",
        "    all_preds = []\n",
        "    all_labels = []\n",
        "\n",
        "    # Iterate through the dataset\n",
        "    for images, targets in tqdm(data_loader):  # Wrap data_loader with tqdm\n",
        "        images = list(image.to(device) for image in images)\n",
        "        targets = [{k: v.to(device) for k, v in t.items()} for t in targets]\n",
        "\n",
        "        with torch.no_grad():\n",
        "            predictions = model(images)\n",
        "\n",
        "        for i in range(len(predictions)):  # Iterate over images in the batch\n",
        "            pred_boxes = predictions[i]['boxes'].cpu().numpy()\n",
        "            pred_labels = predictions[i]['labels'].cpu().numpy()\n",
        "            true_boxes = targets[i]['boxes'].cpu().numpy()\n",
        "            true_labels = targets[i]['labels'].cpu().numpy()\n",
        "\n",
        "            # Match predicted boxes to ground truth boxes based on IoU\n",
        "            for j in range(len(pred_boxes)):\n",
        "                iou_max = 0  # Initialize iou_max for each prediction\n",
        "                matched_label = -1  # Initialize matched label as unmatched\n",
        "\n",
        "                for k in range(len(true_boxes)):\n",
        "                    iou = compute_iou(pred_boxes[j], true_boxes[k])\n",
        "                    if iou > iou_max:\n",
        "                        iou_max = iou\n",
        "                        matched_label = true_labels[k]\n",
        "\n",
        "                # If IoU is above the threshold, consider it a correct prediction\n",
        "                if iou_max >= iou_threshold:\n",
        "                    all_preds.append(pred_labels[j])  # Append predicted label\n",
        "                    all_labels.append(matched_label) # Append true label\n",
        "\n",
        "    # Convert to numpy arrays for sklearn metrics\n",
        "    all_preds = np.array(all_preds)\n",
        "    all_labels = np.array(all_labels)\n",
        "\n",
        "    # Calculate average precision for each class\n",
        "    average_precisions = []\n",
        "    unique_labels = np.unique(all_labels)  # Get all unique labels\n",
        "    for label in unique_labels:\n",
        "        if label != -1:  # Skip unmatched labels\n",
        "            # Consider predictions for the current label only\n",
        "            y_true = (all_labels == label).astype(int)\n",
        "            y_pred = (all_preds == label).astype(int)\n",
        "\n",
        "            # Calculate average precision for the current label\n",
        "            average_precision = average_precision_score(y_true, y_pred)\n",
        "            average_precisions.append(average_precision)\n",
        "\n",
        "    # Calculate mean average precision (mAP)\n",
        "    map_score = np.mean(average_precisions) if average_precisions else 0\n",
        "\n",
        "    # For precision, recall, F1 score, micro averaging\n",
        "    precision, recall, _ = precision_recall_curve(\n",
        "        (all_labels != -1).astype(int),  # True if matched to any object\n",
        "        all_preds,  # Predicted label\n",
        "        pos_label=1,  # Consider any matched label as positive\n",
        "    )\n",
        "    f1_score = 2 * (precision * recall) / (precision + recall + 1e-8)  # Avoid zero division\n",
        "\n",
        "    # Return the micro-average precision, recall, f1 score, and mAP\n",
        "    return np.mean(precision), np.mean(recall), np.mean(f1_score), map_score\n",
        "\n",
        "# Calculate and print evaluation metrics\n",
        "# ... your existing code ...\n",
        "\n",
        "# DataLoader\n",
        "train_loader = DataLoader(train_dataset, batch_size=4, shuffle=True, collate_fn=lambda x: tuple(zip(*x)))\n",
        "val_loader = DataLoader(val_dataset, batch_size=4, shuffle=False, collate_fn=lambda x: tuple(zip(*x)))\n",
        "test_loader = DataLoader(test_dataset, batch_size=4, shuffle=False, collate_fn=lambda x: tuple(zip(*x))) # Define test_loader\n",
        "\n",
        "# ... rest of your code ...\n",
        "precision, recall, f1_score, map_score = evaluate_model(model, test_loader, device)\n",
        "\n",
        "print(f\"Precision: {precision:.4f}\")\n",
        "print(f\"Recall: {recall:.4f}\")\n",
        "print(f\"F1 Score: {f1_score:.4f}\")\n",
        "print(f\"mAP: {map_score:.4f}\")\n",
        "\n",
        "\n",
        "\n"
      ],
      "metadata": {
        "colab": {
          "base_uri": "https://localhost:8080/"
        },
        "outputId": "7c1799ac-783a-4849-8d49-914e88078c68",
        "id": "_oj9JK2X7J4S"
      },
      "execution_count": 36,
      "outputs": [
        {
          "output_type": "stream",
          "name": "stderr",
          "text": [
            "100%|██████████| 4/4 [00:05<00:00,  1.35s/it]"
          ]
        },
        {
          "output_type": "stream",
          "name": "stdout",
          "text": [
            "Precision: 1.0000\n",
            "Recall: 0.5789\n",
            "F1 Score: 0.6378\n",
            "mAP: 0.6821\n"
          ]
        },
        {
          "output_type": "stream",
          "name": "stderr",
          "text": [
            "\n"
          ]
        }
      ]
    }
  ]
}